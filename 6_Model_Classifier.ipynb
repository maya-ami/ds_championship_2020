{
 "cells": [
  {
   "cell_type": "markdown",
   "metadata": {},
   "source": [
    "## Прогноз класса “Архетип”"
   ]
  },
  {
   "cell_type": "code",
   "execution_count": 545,
   "metadata": {},
   "outputs": [
    {
     "data": {
      "image/png": "[encoded data removed]",
      "text/plain": [
       "<IPython.core.display.Image object>"
      ]
     },
     "execution_count": 545,
     "metadata": {},
     "output_type": "execute_result"
    }
   ],
   "source": [
    "from IPython.display import Image\n",
    "Image(filename='stacking_schema.png') "
   ]
  },
  {
   "cell_type": "markdown",
   "metadata": {},
   "source": [
    "### Модель\n",
    "__Стэкинг__: \n",
    "\n",
    "    Фичи 1 уровня: \n",
    "    - Частотный анализ (tf-idf)\n",
    "    - Особенности текстов каждого юзера (длина сообщений, сентимент и т.п.)\n",
    "    \n",
    "    Модель 1 уровня: Метод ближайших соседей (k=5)\n",
    "    \n",
    "    Фичи 2 уровня:\n",
    "    - Прогнозы KNN по фичам 1 уровня\n",
    "    \n",
    "    Модель 2 уровня: Градиентный бустинг (lightgbm из коробки)\n",
    "\n",
    "\n",
    "### Результаты на тесте:\n",
    "\n",
    "- Архетип \"Боец\" - точность 90%\n",
    "- Архетип \"Аналитик\" - точность 75%\n",
    "- Архетип \"Исполнитель\" - точность 73%\n",
    "- Архетип \"Эксперт\" - точность 72%\n",
    "- Архетип \"Эмпат\" - точность 72%\n",
    "- Архетип \"Визионер\" - точность 71%"
   ]
  },
  {
   "cell_type": "code",
   "execution_count": 15,
   "metadata": {},
   "outputs": [],
   "source": [
    "import os\n",
    "import numpy as np\n",
    "import pandas as pd\n",
    "import seaborn as sns\n",
    "from functools import reduce\n",
    "from xgboost import XGBClassifier\n",
    "from sklearn.neighbors import KNeighborsClassifier\n",
    "from sklearn.linear_model import SGDClassifier\n",
    "from sklearn.metrics import *\n",
    "from sklearn.feature_extraction.text import TfidfVectorizer\n",
    "from lightgbm import LGBMClassifier\n",
    "\n",
    "import nltk\n",
    "from nltk.tokenize import ToktokTokenizer\n",
    "from nltk.corpus import stopwords\n",
    "from nltk.stem.snowball import RussianStemmer\n",
    "import re\n",
    "\n",
    "import matplotlib.pyplot as plt\n",
    "%matplotlib inline\n",
    "\n",
    "import warnings\n",
    "warnings.filterwarnings('ignore')"
   ]
  },
  {
   "cell_type": "markdown",
   "metadata": {},
   "source": [
    "## 1 Создание датасета для обучения и теста\n",
    "\n",
    "### Загружаем текстовые данные\n"
   ]
  },
  {
   "cell_type": "code",
   "execution_count": 2,
   "metadata": {},
   "outputs": [
    {
     "data": {
      "text/plain": [
       "((9128, 15), (1256, 2))"
      ]
     },
     "execution_count": 2,
     "metadata": {},
     "output_type": "execute_result"
    }
   ],
   "source": [
    "# изначальные\n",
    "main_text = pd.read_csv('fixed_reflex_texts.csv')\n",
    "# доп данные рефлексий\n",
    "additional_data_text = pd.read_csv('additional_data_text.csv')\n",
    "\n",
    "main_text.shape, additional_data_text.shape"
   ]
  },
  {
   "cell_type": "code",
   "execution_count": 3,
   "metadata": {},
   "outputs": [
    {
     "data": {
      "text/html": [
       "<div>\n",
       "<style scoped>\n",
       "    .dataframe tbody tr th:only-of-type {\n",
       "        vertical-align: middle;\n",
       "    }\n",
       "\n",
       "    .dataframe tbody tr th {\n",
       "        vertical-align: top;\n",
       "    }\n",
       "\n",
       "    .dataframe thead th {\n",
       "        text-align: right;\n",
       "    }\n",
       "</style>\n",
       "<table border=\"1\" class=\"dataframe\">\n",
       "  <thead>\n",
       "    <tr style=\"text-align: right;\">\n",
       "      <th></th>\n",
       "      <th>untiID</th>\n",
       "      <th>Чему вы научились в рамках курса?</th>\n",
       "    </tr>\n",
       "  </thead>\n",
       "  <tbody>\n",
       "    <tr>\n",
       "      <th>0</th>\n",
       "      <td>701335</td>\n",
       "      <td>Оформила страницу в социальной сети, определил...</td>\n",
       "    </tr>\n",
       "    <tr>\n",
       "      <th>1</th>\n",
       "      <td>1033016</td>\n",
       "      <td>До начала курса я немного был знаком с основам...</td>\n",
       "    </tr>\n",
       "    <tr>\n",
       "      <th>2</th>\n",
       "      <td>995121</td>\n",
       "      <td>Очень много новой информации. Научились состав...</td>\n",
       "    </tr>\n",
       "    <tr>\n",
       "      <th>3</th>\n",
       "      <td>674661</td>\n",
       "      <td>Очень полезный курс, научилась грамотно вести ...</td>\n",
       "    </tr>\n",
       "    <tr>\n",
       "      <th>4</th>\n",
       "      <td>969910</td>\n",
       "      <td>научилась очень многому благодаря компетенции ...</td>\n",
       "    </tr>\n",
       "  </tbody>\n",
       "</table>\n",
       "</div>"
      ],
      "text/plain": [
       "    untiID                  Чему вы научились в рамках курса?\n",
       "0   701335  Оформила страницу в социальной сети, определил...\n",
       "1  1033016  До начала курса я немного был знаком с основам...\n",
       "2   995121  Очень много новой информации. Научились состав...\n",
       "3   674661  Очень полезный курс, научилась грамотно вести ...\n",
       "4   969910  научилась очень многому благодаря компетенции ..."
      ]
     },
     "execution_count": 3,
     "metadata": {},
     "output_type": "execute_result"
    }
   ],
   "source": [
    "additional_data_text.head()"
   ]
  },
  {
   "cell_type": "code",
   "execution_count": 4,
   "metadata": {},
   "outputs": [
    {
     "data": {
      "text/plain": [
       "(10384, 2)"
      ]
     },
     "execution_count": 4,
     "metadata": {},
     "output_type": "execute_result"
    }
   ],
   "source": [
    "# Объединим основные и доп данные\n",
    "\n",
    "additional_data_text.columns = ['untiID','value']\n",
    "\n",
    "data = pd.concat((main_text[['untiID', 'value']], additional_data_text[['untiID','value']]))\n",
    "data.shape"
   ]
  },
  {
   "cell_type": "code",
   "execution_count": 5,
   "metadata": {},
   "outputs": [
    {
     "data": {
      "text/plain": [
       "(7300, 2)"
      ]
     },
     "execution_count": 5,
     "metadata": {},
     "output_type": "execute_result"
    }
   ],
   "source": [
    "# identify id where answers are not textual\n",
    "ids_no_text = []\n",
    "\n",
    "for ind, val in zip(data.index, data['value']):\n",
    "    if not isinstance(val, str):\n",
    "        ids_no_text.append(ind)\n",
    "        \n",
    "# slice rows where answers are textual\n",
    "data = data[~data.index.isin(ids_no_text)]\n",
    "data.shape"
   ]
  },
  {
   "cell_type": "markdown",
   "metadata": {},
   "source": [
    "## Предобработка текстовых данных"
   ]
  },
  {
   "cell_type": "code",
   "execution_count": 6,
   "metadata": {},
   "outputs": [],
   "source": [
    "# Проведем очистку данных: стемминг, единый регистр, удалим знаки препинания, цифры и т.п.\n",
    "\n",
    "def preprocess(line):\n",
    "    char_regex = re.compile(r'[^а-яa-z]')\n",
    "    line = char_regex.sub(' ', line.lower())\n",
    "    \n",
    "    tokenized = toktok.tokenize(line)\n",
    "    stemmed_str = ''\n",
    "    for i in tokenized:\n",
    "        stemmed = stemmer.stem(i)\n",
    "        stemmed_str += str(stemmed + ' ')\n",
    "    return stemmed_str"
   ]
  },
  {
   "cell_type": "code",
   "execution_count": 7,
   "metadata": {},
   "outputs": [
    {
     "name": "stdout",
     "output_type": "stream",
     "text": [
      "Wall time: 3.27 s\n"
     ]
    }
   ],
   "source": [
    "%%time\n",
    "\n",
    "toktok = ToktokTokenizer()\n",
    "stemmer = RussianStemmer()\n",
    "\n",
    "data['text'] = data['value'].apply(preprocess) "
   ]
  },
  {
   "cell_type": "code",
   "execution_count": 8,
   "metadata": {},
   "outputs": [
    {
     "data": {
      "text/plain": [
       "(1294, 2)"
      ]
     },
     "execution_count": 8,
     "metadata": {},
     "output_type": "execute_result"
    }
   ],
   "source": [
    "# агрегация текстов по каждому юзеру\n",
    "\n",
    "data_agg = data.groupby(['untiID'])['text'].apply(' '.join).reset_index()\n",
    "data_agg.shape"
   ]
  },
  {
   "cell_type": "code",
   "execution_count": 9,
   "metadata": {},
   "outputs": [
    {
     "data": {
      "text/html": [
       "<div>\n",
       "<style scoped>\n",
       "    .dataframe tbody tr th:only-of-type {\n",
       "        vertical-align: middle;\n",
       "    }\n",
       "\n",
       "    .dataframe tbody tr th {\n",
       "        vertical-align: top;\n",
       "    }\n",
       "\n",
       "    .dataframe thead th {\n",
       "        text-align: right;\n",
       "    }\n",
       "</style>\n",
       "<table border=\"1\" class=\"dataframe\">\n",
       "  <thead>\n",
       "    <tr style=\"text-align: right;\">\n",
       "      <th></th>\n",
       "      <th>untiID</th>\n",
       "      <th>text</th>\n",
       "    </tr>\n",
       "  </thead>\n",
       "  <tbody>\n",
       "    <tr>\n",
       "      <th>2</th>\n",
       "      <td>85</td>\n",
       "      <td>рассказа что дела и что над зачекин остав ос ...</td>\n",
       "    </tr>\n",
       "  </tbody>\n",
       "</table>\n",
       "</div>"
      ],
      "text/plain": [
       "   untiID                                               text\n",
       "2      85   рассказа что дела и что над зачекин остав ос ..."
      ]
     },
     "execution_count": 9,
     "metadata": {},
     "output_type": "execute_result"
    }
   ],
   "source": [
    "data_agg[data_agg['untiID']==85]"
   ]
  },
  {
   "cell_type": "markdown",
   "metadata": {},
   "source": [
    "## Загружаем результаты диагностик"
   ]
  },
  {
   "cell_type": "code",
   "execution_count": 10,
   "metadata": {},
   "outputs": [
    {
     "data": {
      "text/plain": [
       "((1451, 327), (127, 681))"
      ]
     },
     "execution_count": 10,
     "metadata": {},
     "output_type": "execute_result"
    }
   ],
   "source": [
    "df_train = pd.read_csv('diag_large_train.csv')\n",
    "df_test = pd.read_csv('diag_test_agg.csv')\n",
    "\n",
    "df_train.shape, df_test.shape"
   ]
  },
  {
   "cell_type": "code",
   "execution_count": 11,
   "metadata": {},
   "outputs": [
    {
     "data": {
      "text/plain": [
       "((1050, 328), (127, 328))"
      ]
     },
     "execution_count": 11,
     "metadata": {},
     "output_type": "execute_result"
    }
   ],
   "source": [
    "# Объединим тексты и результаты диагностик по каждому юзеру\n",
    "# Разделим данные: трейн - db0-7 + доп.данные; тест - db8-10\n",
    "\n",
    "train = pd.merge(data_agg, df_train, on=['untiID'])\n",
    "test = pd.merge(data_agg, df_test, on=['untiID'])\n",
    "test = test[train.columns.tolist()]\n",
    "train.shape, test.shape"
   ]
  },
  {
   "cell_type": "markdown",
   "metadata": {},
   "source": [
    "## Объединим агрегаты текстовых данных (длина, тональность, кол-во знаков препинания и т.д.) с результатами диагностик и текстами"
   ]
  },
  {
   "cell_type": "code",
   "execution_count": 12,
   "metadata": {},
   "outputs": [
    {
     "data": {
      "text/plain": [
       "((1417, 336), (110, 336))"
      ]
     },
     "execution_count": 12,
     "metadata": {},
     "output_type": "execute_result"
    }
   ],
   "source": [
    "agg_train = pd.read_csv('train.csv')\n",
    "agg_test = pd.read_csv('test.csv')\n",
    "\n",
    "agg_train.shape, agg_test.shape"
   ]
  },
  {
   "cell_type": "code",
   "execution_count": 13,
   "metadata": {},
   "outputs": [
    {
     "data": {
      "text/plain": [
       "((1016, 337), (110, 337))"
      ]
     },
     "execution_count": 13,
     "metadata": {},
     "output_type": "execute_result"
    }
   ],
   "source": [
    "# берем не все признаки. только те, которые позволили получить приемлимое качество модели\n",
    "\n",
    "synth = ['sentiment_negative', 'sentiment_neutral','sentiment_positive', \n",
    "         'sentiment_skip','sentiment_speech','ner','answer_len',\n",
    "         'upper_case_word_count','punctuation_count']\n",
    "\n",
    "final_train = pd.merge(agg_train[synth+['untiID']], train, on=['untiID'])\n",
    "final_test = pd.merge(agg_test[synth+['untiID']], test, on=['untiID'])\n",
    "\n",
    "final_train.shape, final_test.shape"
   ]
  },
  {
   "cell_type": "markdown",
   "metadata": {},
   "source": [
    "## Transform texts to Tf-Idf vectors"
   ]
  },
  {
   "cell_type": "code",
   "execution_count": 16,
   "metadata": {},
   "outputs": [],
   "source": [
    "# Будем рассматривать юни-, би- и триграммы.\n",
    "# Возьмем только топ 1000 слов, за исключением стопслов\n",
    "\n",
    "rus_stopwords = nltk.corpus.stopwords.words('russian')\n",
    "\n",
    "vect = TfidfVectorizer(ngram_range=(1, 4),max_features=1000, stop_words=rus_stopwords)\n",
    "X_train = vect.fit_transform(final_train['text'])\n",
    "X_test = vect.transform(final_test['text'])"
   ]
  },
  {
   "cell_type": "code",
   "execution_count": 17,
   "metadata": {},
   "outputs": [],
   "source": [
    "import pickle"
   ]
  },
  {
   "cell_type": "code",
   "execution_count": 461,
   "metadata": {},
   "outputs": [],
   "source": [
    "pickle.dump(vect, open('tfidf_vectorizer.pkl','wb'))"
   ]
  },
  {
   "cell_type": "markdown",
   "metadata": {},
   "source": [
    "## 2 Modeling"
   ]
  },
  {
   "cell_type": "code",
   "execution_count": 22,
   "metadata": {},
   "outputs": [],
   "source": [
    "# Сделаем бинарную разметку: свойственен ли архетип учащемуся (1) или нет (0)\n",
    "\n",
    "def new_tgt(line):\n",
    "    if line > 0:\n",
    "        return 1\n",
    "    else:\n",
    "        return 0\n",
    "\n",
    "def classify_behaviour_type_tfidf(type_name,title):\n",
    "    \"\"\"Прогноз архетипа на основе векторного представления текстов рефлексий (н граммы)\"\"\"\n",
    "    y_train = final_train[type_name].apply(new_tgt)\n",
    "    y_test = final_train[type_name].apply(new_tgt)\n",
    "    \n",
    "    model = KNeighborsClassifier(n_neighbors=5)\n",
    "\n",
    "    model.fit(X_train, y_train)\n",
    "    # прогноз на трейне будет фичей для обучения модели 2 уровня\n",
    "    pred_train = model.predict(X_train)\n",
    "    # прогноз на тесте - фича для тестирования модели 2 уровня\n",
    "    y_pred = model.predict(X_test)\n",
    "    \n",
    "    pickle.dump(model, open(title+'_tf.pkl','wb'))\n",
    "\n",
    "    return pred_train, y_pred\n",
    "    \n",
    "def classify_behaviour_type(type_name,title):\n",
    "    \"\"\"Прогноз архетипа на основе текстовых особенностей (длина сообщения, кол-во запятых итп)\"\"\"\n",
    "    final_train['type'] = final_train[type_name].apply(new_tgt)\n",
    "    final_test['type'] = final_test[type_name].apply(new_tgt)\n",
    "    \n",
    "    X_train, y_train = final_train[synth], final_train['type']\n",
    "    X_test, y_test = final_test[synth], final_test['type']\n",
    "    \n",
    "    model = KNeighborsClassifier(n_neighbors=5)\n",
    "    model.fit(X_train, y_train)\n",
    "    pred_train = model.predict(X_train)\n",
    "    y_pred = model.predict(X_test)\n",
    "    \n",
    "    pickle.dump(model, open(title+'_feat.pkl','wb'))\n",
    "    \n",
    "    return pred_train, y_pred\n",
    "\n",
    "\n",
    "\n",
    "def predict_with_stacking(type_name, title):\n",
    "    \"\"\"Стэккинг: мета классификатор обучается на прогнозах моделей 1 уровная\"\"\"\n",
    "    pred_train_tf, y_pred_tf = classify_behaviour_type_tfidf(type_name, title)\n",
    "    pred_train_feat, y_pred_feat = classify_behaviour_type(type_name, title)\n",
    "    \n",
    "    y_train_new = final_train[type_name].apply(new_tgt)\n",
    "    y_test_new = final_test[type_name].apply(new_tgt)\n",
    "\n",
    "    stack_train = pd.DataFrame({'tf':pred_train_tf,\n",
    "                                'feat':pred_train_feat,\n",
    "                               })\n",
    "\n",
    "    stack_test = pd.DataFrame({'tf':y_pred_tf,\n",
    "                                'feat':y_pred_feat})\n",
    "    stack = LGBMClassifier(random_state=1)\n",
    "    stack.fit(stack_train, y_train_new)\n",
    "    pred = stack.predict(stack_test)\n",
    "    pickle.dump(stack, open(title+'.pkl','wb'))\n",
    "    \n",
    "    print(\"Точность (precision) {}%\".format(round(precision_score(y_test_new, pred)*100, 2)))"
   ]
  },
  {
   "cell_type": "code",
   "execution_count": 23,
   "metadata": {},
   "outputs": [
    {
     "name": "stdout",
     "output_type": "stream",
     "text": [
      "Точность (precision) 90.0%\n"
     ]
    }
   ],
   "source": [
    "predict_with_stacking('боец_sum', 'fighter')"
   ]
  },
  {
   "cell_type": "code",
   "execution_count": 24,
   "metadata": {},
   "outputs": [
    {
     "name": "stdout",
     "output_type": "stream",
     "text": [
      "Точность (precision) 74.67%\n"
     ]
    }
   ],
   "source": [
    "predict_with_stacking('аналитик_sum','analyst')"
   ]
  },
  {
   "cell_type": "code",
   "execution_count": 25,
   "metadata": {},
   "outputs": [
    {
     "name": "stdout",
     "output_type": "stream",
     "text": [
      "Точность (precision) 72.73%\n"
     ]
    }
   ],
   "source": [
    "predict_with_stacking('исполнитель_sum','performer')"
   ]
  },
  {
   "cell_type": "code",
   "execution_count": 26,
   "metadata": {},
   "outputs": [
    {
     "name": "stdout",
     "output_type": "stream",
     "text": [
      "Точность (precision) 72.41%\n"
     ]
    }
   ],
   "source": [
    "predict_with_stacking('эксперт_sum','expert')"
   ]
  },
  {
   "cell_type": "code",
   "execution_count": 27,
   "metadata": {},
   "outputs": [
    {
     "name": "stdout",
     "output_type": "stream",
     "text": [
      "Точность (precision) 71.43%\n"
     ]
    }
   ],
   "source": [
    "predict_with_stacking('эмпат_sum','empath')"
   ]
  },
  {
   "cell_type": "code",
   "execution_count": 28,
   "metadata": {},
   "outputs": [
    {
     "name": "stdout",
     "output_type": "stream",
     "text": [
      "Точность (precision) 70.97%\n"
     ]
    }
   ],
   "source": [
    "predict_with_stacking('визионер_sum','visioner')"
   ]
  },
  {
   "cell_type": "code",
   "execution_count": null,
   "metadata": {},
   "outputs": [],
   "source": []
  }
 ],
 "metadata": {
  "kernelspec": {
   "display_name": "Python 3",
   "language": "python",
   "name": "python3"
  },
  "language_info": {
   "codemirror_mode": {
    "name": "ipython",
    "version": 3
   },
   "file_extension": ".py",
   "mimetype": "text/x-python",
   "name": "python",
   "nbconvert_exporter": "python",
   "pygments_lexer": "ipython3",
   "version": "3.7.9"
  }
 },
 "nbformat": 4,
 "nbformat_minor": 4
}
