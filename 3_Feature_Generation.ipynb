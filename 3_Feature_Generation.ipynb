{
 "cells": [
  {
   "cell_type": "markdown",
   "metadata": {},
   "source": [
    "### Общий план:\n",
    "- Заполнить пропуски в данных диагностики\n",
    "- Агрегировать результаты диагностики по каждому юзеру\n",
    "- __Выделить фичи из текста__\n",
    "- __Агрегировать фичи по юзеру__\n",
    "- __Объединить датасеты__\n",
    "- Построить матрицу корреляций по полученному датасету\n",
    "- Наиболее удачные, яркие корреляции рассмотреть подробнее\n",
    "- Построить бейзлайн, лр/бустинг, для прогнозирования результата диагностики по фичам текста"
   ]
  },
  {
   "cell_type": "code",
   "execution_count": 48,
   "metadata": {},
   "outputs": [],
   "source": [
    "import os\n",
    "import numpy as np\n",
    "import pandas as pd\n",
    "import seaborn as sns\n",
    "from functools import reduce\n",
    "from deeppavlov import build_model, configs\n",
    "import matplotlib.pyplot as plt\n",
    "%matplotlib inline\n",
    "import warnings\n",
    "warnings.filterwarnings('ignore')"
   ]
  },
  {
   "cell_type": "code",
   "execution_count": 49,
   "metadata": {},
   "outputs": [
    {
     "data": {
      "text/plain": [
       "(9128, 15)"
      ]
     },
     "execution_count": 49,
     "metadata": {},
     "output_type": "execute_result"
    }
   ],
   "source": [
    "# основные данные рефлексий\n",
    "main_text = pd.read_csv('fixed_reflex_texts.csv')\n",
    "main_text.shape"
   ]
  },
  {
   "cell_type": "code",
   "execution_count": 36,
   "metadata": {
    "collapsed": true
   },
   "outputs": [
    {
     "data": {
      "text/plain": [
       "array(['Насколько вероятно, что Вы порекомендуете мероприятие знакомым? Пожалуйста, оцените по шкале от 0 до 10',\n",
       "       'Перечислите основные этапы деятельности, в которую вы были вовлечены и благодаря этому приобретали новые или развивали существующие компетенции',\n",
       "       'Чему новому, как вам кажется, вы научились?',\n",
       "       'Была ли в этом ценность и в чем она выражается?',\n",
       "       'Поделитесь вашими комментариями или пожеланиями по поводу того, с чем вы познакомились?',\n",
       "       'Какие вопросы, комментарии  и пожелания у вас есть?',\n",
       "       'Вы понимаете, зачем пришли на это мероприятие? Оцените по шкале от 1 до 10, где 1 - не совсем, 10 - да, и понимаю, как именно буду использовать полученные знания и навыки в своей дальнейшей деятельности.',\n",
       "       'Вы понимаете, зачем пришли на это мероприятие? Оцените по шкале от 1 до 10, где 1 - не совсем,  10 -  да, и понимаю, как именно буду использовать полученные знания и навыки в своей дальнейшей деятельности.',\n",
       "       'Что вы поняли про свой проект по итогам общения с экспертами? К каким действиям это вас побудило?',\n",
       "       'Что было полезно для вас лично и для команды в целом в трубе экспертов?',\n",
       "       'А что можно было бы в трубе экспертов улучшить?',\n",
       "       'Какие вопросы для вас остаются без ответа, чего вам не хватает сейчас?',\n",
       "       'Если бы вы заранее знали, что труба будет проходить именно так, как бы вы к ней подготовились?',\n",
       "       'Выберите проект для оценки',\n",
       "       'Насколько ясно команда сформулировала, кому и с чем хочет помогать (проблема и пользователи)',\n",
       "       'Насколько проработанный прототип у команды?',\n",
       "       'Насколько решение отвечает проблеме?',\n",
       "       'Уровень амбиций команды (насколько высокую планку поставили)',\n",
       "       'Насколько хороша презентация команды (дизайн слайдов, структура, подача)',\n",
       "       'Комментарии и рекомендации команде',\n",
       "       'Ваше место работы/должность'], dtype=object)"
      ]
     },
     "execution_count": 36,
     "metadata": {},
     "output_type": "execute_result"
    }
   ],
   "source": [
    "main_text['question'].unique()"
   ]
  },
  {
   "cell_type": "code",
   "execution_count": 50,
   "metadata": {},
   "outputs": [],
   "source": [
    "# возьмем вопросы, для ответов на которые можно оценить тон учащегося\n",
    "q = [\n",
    "    'Чему новому, как вам кажется, вы научились?',\n",
    " 'Была ли в этом ценность и в чем она выражается?',\n",
    " 'Поделитесь вашими комментариями или пожеланиями по поводу того, с чем вы познакомились?',\n",
    " 'Какие вопросы, комментарии  и пожелания у вас есть?',\n",
    " 'Что вы поняли про свой проект по итогам общения с экспертами? К каким действиям это вас побудило?',\n",
    " 'Что было полезно для вас лично и для команды в целом в трубе экспертов?',\n",
    " 'А что можно было бы в трубе экспертов улучшить?',\n",
    " 'Какие вопросы для вас остаются без ответа, чего вам не хватает сейчас?',\n",
    " 'Если бы вы заранее знали, что труба будет проходить именно так, как бы вы к ней подготовились?',\n",
    "    'Насколько ясно команда сформулировала, кому и с чем хочет помогать (проблема и пользователи)',\n",
    " 'Насколько проработанный прототип у команды?',\n",
    " 'Насколько решение отвечает проблеме?',\n",
    " 'Уровень амбиций команды (насколько высокую планку поставили)',\n",
    " 'Насколько хороша презентация команды (дизайн слайдов, структура, подача)',\n",
    " 'Комментарии и рекомендации команде',\n",
    "]"
   ]
  },
  {
   "cell_type": "code",
   "execution_count": 51,
   "metadata": {},
   "outputs": [
    {
     "data": {
      "text/plain": [
       "(5440, 15)"
      ]
     },
     "execution_count": 51,
     "metadata": {},
     "output_type": "execute_result"
    }
   ],
   "source": [
    "main_text = main_text[main_text['question'].isin(q)]\n",
    "main_text.shape"
   ]
  },
  {
   "cell_type": "code",
   "execution_count": 52,
   "metadata": {},
   "outputs": [
    {
     "data": {
      "text/plain": [
       "(3441, 15)"
      ]
     },
     "execution_count": 52,
     "metadata": {},
     "output_type": "execute_result"
    }
   ],
   "source": [
    "# identify id where answers are not textual\n",
    "ids_no_sentiment = []\n",
    "\n",
    "for ind, val in zip(main_text.index, main_text['value']):\n",
    "    if not isinstance(val, str):\n",
    "        ids_no_sentiment.append(ind)\n",
    "        \n",
    "# slice rows where answers are textual\n",
    "main_text = main_text[~main_text.index.isin(ids_no_sentiment)]\n",
    "main_text.shape"
   ]
  },
  {
   "cell_type": "code",
   "execution_count": 53,
   "metadata": {},
   "outputs": [
    {
     "data": {
      "text/plain": [
       "(1256, 2)"
      ]
     },
     "execution_count": 53,
     "metadata": {},
     "output_type": "execute_result"
    }
   ],
   "source": [
    "# доп данные рефлексий\n",
    "additional_data_text = pd.read_csv('additional_data_text.csv')\n",
    "additional_data_text.shape"
   ]
  },
  {
   "cell_type": "code",
   "execution_count": 54,
   "metadata": {},
   "outputs": [
    {
     "data": {
      "text/plain": [
       "untiID                                int64\n",
       "Чему вы научились в рамках курса?    object\n",
       "dtype: object"
      ]
     },
     "execution_count": 54,
     "metadata": {},
     "output_type": "execute_result"
    }
   ],
   "source": [
    "additional_data_text.dtypes"
   ]
  },
  {
   "cell_type": "markdown",
   "metadata": {},
   "source": [
    "## Sentiment (Анализ тональности текста)"
   ]
  },
  {
   "cell_type": "code",
   "execution_count": 96,
   "metadata": {},
   "outputs": [],
   "source": [
    "sent_model = build_model(configs.classifiers.rusentiment_elmo_twitter_cnn, download=True)"
   ]
  },
  {
   "cell_type": "code",
   "execution_count": 56,
   "metadata": {},
   "outputs": [],
   "source": [
    "def do_sentiment(line):\n",
    "    return sent_model([line])[0]"
   ]
  },
  {
   "cell_type": "code",
   "execution_count": 57,
   "metadata": {},
   "outputs": [
    {
     "name": "stdout",
     "output_type": "stream",
     "text": [
      "Wall time: 10min 15s\n"
     ]
    }
   ],
   "source": [
    "%%time\n",
    "# Выделение тональности из основных данных\n",
    "main_text['sentiment'] = main_text['value'].apply(do_sentiment)\n",
    "main_text = pd.get_dummies(main_text, columns=['sentiment'])"
   ]
  },
  {
   "cell_type": "code",
   "execution_count": 58,
   "metadata": {},
   "outputs": [
    {
     "name": "stdout",
     "output_type": "stream",
     "text": [
      "Wall time: 6min 27s\n"
     ]
    }
   ],
   "source": [
    "%%time\n",
    "# Выделение тональности из доп данных\n",
    "additional_data_text['sentiment'] = additional_data_text['Чему вы научились в рамках курса?'].apply(do_sentiment)"
   ]
  },
  {
   "cell_type": "code",
   "execution_count": 59,
   "metadata": {},
   "outputs": [
    {
     "data": {
      "text/plain": [
       "neutral     1243\n",
       "positive      11\n",
       "speech         2\n",
       "Name: sentiment, dtype: int64"
      ]
     },
     "execution_count": 59,
     "metadata": {},
     "output_type": "execute_result"
    }
   ],
   "source": [
    "additional_data_text['sentiment'].value_counts()"
   ]
  },
  {
   "cell_type": "code",
   "execution_count": 60,
   "metadata": {},
   "outputs": [],
   "source": [
    "# encode sentiment as one-hot\n",
    "additional_data_text = pd.get_dummies(additional_data_text, columns=['sentiment'])"
   ]
  },
  {
   "cell_type": "code",
   "execution_count": 61,
   "metadata": {},
   "outputs": [],
   "source": [
    "# добавим колонки для сентиментов, найденных в основном датасете рефлексий\n",
    "additional_data_text['sentiment_skip'] = 0\n",
    "additional_data_text['sentiment_negative'] = 0"
   ]
  },
  {
   "cell_type": "code",
   "execution_count": 62,
   "metadata": {},
   "outputs": [
    {
     "data": {
      "text/html": [
       "<div>\n",
       "<style scoped>\n",
       "    .dataframe tbody tr th:only-of-type {\n",
       "        vertical-align: middle;\n",
       "    }\n",
       "\n",
       "    .dataframe tbody tr th {\n",
       "        vertical-align: top;\n",
       "    }\n",
       "\n",
       "    .dataframe thead th {\n",
       "        text-align: right;\n",
       "    }\n",
       "</style>\n",
       "<table border=\"1\" class=\"dataframe\">\n",
       "  <thead>\n",
       "    <tr style=\"text-align: right;\">\n",
       "      <th></th>\n",
       "      <th>untiID</th>\n",
       "      <th>Чему вы научились в рамках курса?</th>\n",
       "      <th>sentiment_neutral</th>\n",
       "      <th>sentiment_positive</th>\n",
       "      <th>sentiment_speech</th>\n",
       "      <th>sentiment_skip</th>\n",
       "      <th>sentiment_negative</th>\n",
       "    </tr>\n",
       "  </thead>\n",
       "  <tbody>\n",
       "    <tr>\n",
       "      <th>0</th>\n",
       "      <td>701335</td>\n",
       "      <td>Оформила страницу в социальной сети, определил...</td>\n",
       "      <td>1</td>\n",
       "      <td>0</td>\n",
       "      <td>0</td>\n",
       "      <td>0</td>\n",
       "      <td>0</td>\n",
       "    </tr>\n",
       "    <tr>\n",
       "      <th>1</th>\n",
       "      <td>1033016</td>\n",
       "      <td>До начала курса я немного был знаком с основам...</td>\n",
       "      <td>1</td>\n",
       "      <td>0</td>\n",
       "      <td>0</td>\n",
       "      <td>0</td>\n",
       "      <td>0</td>\n",
       "    </tr>\n",
       "    <tr>\n",
       "      <th>2</th>\n",
       "      <td>995121</td>\n",
       "      <td>Очень много новой информации. Научились состав...</td>\n",
       "      <td>1</td>\n",
       "      <td>0</td>\n",
       "      <td>0</td>\n",
       "      <td>0</td>\n",
       "      <td>0</td>\n",
       "    </tr>\n",
       "  </tbody>\n",
       "</table>\n",
       "</div>"
      ],
      "text/plain": [
       "    untiID                  Чему вы научились в рамках курса?  \\\n",
       "0   701335  Оформила страницу в социальной сети, определил...   \n",
       "1  1033016  До начала курса я немного был знаком с основам...   \n",
       "2   995121  Очень много новой информации. Научились состав...   \n",
       "\n",
       "   sentiment_neutral  sentiment_positive  sentiment_speech  sentiment_skip  \\\n",
       "0                  1                   0                 0               0   \n",
       "1                  1                   0                 0               0   \n",
       "2                  1                   0                 0               0   \n",
       "\n",
       "   sentiment_negative  \n",
       "0                   0  \n",
       "1                   0  \n",
       "2                   0  "
      ]
     },
     "execution_count": 62,
     "metadata": {},
     "output_type": "execute_result"
    }
   ],
   "source": [
    "additional_data_text.head(3)"
   ]
  },
  {
   "cell_type": "markdown",
   "metadata": {},
   "source": [
    "## NER (Именованные сущности)"
   ]
  },
  {
   "cell_type": "code",
   "execution_count": 97,
   "metadata": {},
   "outputs": [],
   "source": [
    "ner_model = build_model(configs.ner.ner_rus, download=True)"
   ]
  },
  {
   "cell_type": "code",
   "execution_count": 64,
   "metadata": {},
   "outputs": [],
   "source": [
    "def find_ner(line):\n",
    "    words, tags = ner_model([line])\n",
    "    try:\n",
    "        for w, t in zip(words[0], tags[0]):\n",
    "            if t != 'O':\n",
    "                return 1\n",
    "            else:\n",
    "                return 0\n",
    "    except:\n",
    "        return 0"
   ]
  },
  {
   "cell_type": "code",
   "execution_count": 65,
   "metadata": {},
   "outputs": [
    {
     "name": "stdout",
     "output_type": "stream",
     "text": [
      "Wall time: 16.4 s\n"
     ]
    }
   ],
   "source": [
    "%%time\n",
    "main_text['ner'] = main_text['value'].apply(find_ner)\n",
    "additional_data_text['ner'] = additional_data_text['Чему вы научились в рамках курса?'].apply(find_ner)"
   ]
  },
  {
   "cell_type": "code",
   "execution_count": 66,
   "metadata": {},
   "outputs": [
    {
     "data": {
      "text/plain": [
       "0    1145\n",
       "1     111\n",
       "Name: ner, dtype: int64"
      ]
     },
     "execution_count": 66,
     "metadata": {},
     "output_type": "execute_result"
    }
   ],
   "source": [
    "additional_data_text['ner'].value_counts()"
   ]
  },
  {
   "cell_type": "code",
   "execution_count": 67,
   "metadata": {},
   "outputs": [
    {
     "data": {
      "text/html": [
       "<div>\n",
       "<style scoped>\n",
       "    .dataframe tbody tr th:only-of-type {\n",
       "        vertical-align: middle;\n",
       "    }\n",
       "\n",
       "    .dataframe tbody tr th {\n",
       "        vertical-align: top;\n",
       "    }\n",
       "\n",
       "    .dataframe thead th {\n",
       "        text-align: right;\n",
       "    }\n",
       "</style>\n",
       "<table border=\"1\" class=\"dataframe\">\n",
       "  <thead>\n",
       "    <tr style=\"text-align: right;\">\n",
       "      <th></th>\n",
       "      <th>untiID</th>\n",
       "      <th>Чему вы научились в рамках курса?</th>\n",
       "      <th>sentiment_neutral</th>\n",
       "      <th>sentiment_positive</th>\n",
       "      <th>sentiment_speech</th>\n",
       "      <th>sentiment_skip</th>\n",
       "      <th>sentiment_negative</th>\n",
       "      <th>ner</th>\n",
       "    </tr>\n",
       "  </thead>\n",
       "  <tbody>\n",
       "    <tr>\n",
       "      <th>0</th>\n",
       "      <td>701335</td>\n",
       "      <td>Оформила страницу в социальной сети, определил...</td>\n",
       "      <td>1</td>\n",
       "      <td>0</td>\n",
       "      <td>0</td>\n",
       "      <td>0</td>\n",
       "      <td>0</td>\n",
       "      <td>0</td>\n",
       "    </tr>\n",
       "    <tr>\n",
       "      <th>1</th>\n",
       "      <td>1033016</td>\n",
       "      <td>До начала курса я немного был знаком с основам...</td>\n",
       "      <td>1</td>\n",
       "      <td>0</td>\n",
       "      <td>0</td>\n",
       "      <td>0</td>\n",
       "      <td>0</td>\n",
       "      <td>0</td>\n",
       "    </tr>\n",
       "    <tr>\n",
       "      <th>2</th>\n",
       "      <td>995121</td>\n",
       "      <td>Очень много новой информации. Научились состав...</td>\n",
       "      <td>1</td>\n",
       "      <td>0</td>\n",
       "      <td>0</td>\n",
       "      <td>0</td>\n",
       "      <td>0</td>\n",
       "      <td>0</td>\n",
       "    </tr>\n",
       "    <tr>\n",
       "      <th>3</th>\n",
       "      <td>674661</td>\n",
       "      <td>Очень полезный курс, научилась грамотно вести ...</td>\n",
       "      <td>1</td>\n",
       "      <td>0</td>\n",
       "      <td>0</td>\n",
       "      <td>0</td>\n",
       "      <td>0</td>\n",
       "      <td>0</td>\n",
       "    </tr>\n",
       "    <tr>\n",
       "      <th>4</th>\n",
       "      <td>969910</td>\n",
       "      <td>научилась очень многому благодаря компетенции ...</td>\n",
       "      <td>0</td>\n",
       "      <td>1</td>\n",
       "      <td>0</td>\n",
       "      <td>0</td>\n",
       "      <td>0</td>\n",
       "      <td>0</td>\n",
       "    </tr>\n",
       "  </tbody>\n",
       "</table>\n",
       "</div>"
      ],
      "text/plain": [
       "    untiID                  Чему вы научились в рамках курса?  \\\n",
       "0   701335  Оформила страницу в социальной сети, определил...   \n",
       "1  1033016  До начала курса я немного был знаком с основам...   \n",
       "2   995121  Очень много новой информации. Научились состав...   \n",
       "3   674661  Очень полезный курс, научилась грамотно вести ...   \n",
       "4   969910  научилась очень многому благодаря компетенции ...   \n",
       "\n",
       "   sentiment_neutral  sentiment_positive  sentiment_speech  sentiment_skip  \\\n",
       "0                  1                   0                 0               0   \n",
       "1                  1                   0                 0               0   \n",
       "2                  1                   0                 0               0   \n",
       "3                  1                   0                 0               0   \n",
       "4                  0                   1                 0               0   \n",
       "\n",
       "   sentiment_negative  ner  \n",
       "0                   0    0  \n",
       "1                   0    0  \n",
       "2                   0    0  \n",
       "3                   0    0  \n",
       "4                   0    0  "
      ]
     },
     "execution_count": 67,
     "metadata": {},
     "output_type": "execute_result"
    }
   ],
   "source": [
    "additional_data_text.head()"
   ]
  },
  {
   "cell_type": "markdown",
   "metadata": {},
   "source": [
    "### Features: особенности текстов"
   ]
  },
  {
   "cell_type": "code",
   "execution_count": 85,
   "metadata": {},
   "outputs": [],
   "source": [
    "import string\n",
    "punctuation = string.punctuation"
   ]
  },
  {
   "cell_type": "code",
   "execution_count": 86,
   "metadata": {},
   "outputs": [],
   "source": [
    "# длина комментария\n",
    "main_text[\"answer_len\"] = main_text['value'].apply(len)\n",
    "\n",
    "# кол-во слов с заглавной буквы\n",
    "main_text['upper_case_word_count'] = main_text['value'].apply(lambda x: len([wrd for wrd in x.split() if wrd[0].isupper()]))\n",
    "\n",
    "# кол-во знаков препинания\n",
    "main_text['punctuation_count'] = main_text['value'].apply(lambda x: len(\"\".join(_ for _ in x if _ in punctuation)))"
   ]
  },
  {
   "cell_type": "code",
   "execution_count": 87,
   "metadata": {},
   "outputs": [],
   "source": [
    "# длина комментария\n",
    "additional_data_text[\"answer_len\"] = additional_data_text['Чему вы научились в рамках курса?'].apply(len)\n",
    "\n",
    "# кол-во слов с заглавной буквы\n",
    "additional_data_text['upper_case_word_count'] = additional_data_text['Чему вы научились в рамках курса?'].apply(lambda x: len([wrd for wrd in x.split() if wrd[0].isupper()]))\n",
    "\n",
    "# кол-во знаков препинания\n",
    "additional_data_text['punctuation_count'] = additional_data_text['Чему вы научились в рамках курса?'].apply(lambda x: len(\"\".join(_ for _ in x if _ in punctuation)))"
   ]
  },
  {
   "cell_type": "markdown",
   "metadata": {},
   "source": [
    "### Features: использование частей речи"
   ]
  },
  {
   "cell_type": "code",
   "execution_count": 69,
   "metadata": {},
   "outputs": [],
   "source": [
    "import pymorphy2\n",
    "morph = pymorphy2.MorphAnalyzer()"
   ]
  },
  {
   "cell_type": "code",
   "execution_count": 70,
   "metadata": {},
   "outputs": [],
   "source": [
    "def count_pos(line, pos):\n",
    "    \"\"\"\n",
    "    Оставляет только верно написанные русские слова и подсчитываем,\n",
    "    сколько слов определенной частей речи (аргумент pos) в сообщении.\n",
    "    \"\"\"\n",
    "    char_regex = re.compile(r'[^а-яa-z]')\n",
    "    line = char_regex.sub(' ', line.lower())\n",
    "    \n",
    "    chkr_ru = SpellChecker(d_ru)\n",
    "    chkr_ru.set_text(line)\n",
    "    mistakes_ru = set([err.word for err in chkr_ru])\n",
    "    \n",
    "    tokenized = toktok.tokenize(line)\n",
    "    count = 0\n",
    "    for i in tokenized:\n",
    "        if i not in mistakes_ru:\n",
    "            p = morph.parse(i)[0]\n",
    "            if p.tag.POS==pos:\n",
    "                count+=1\n",
    "            \n",
    "    return count"
   ]
  },
  {
   "cell_type": "code",
   "execution_count": 71,
   "metadata": {},
   "outputs": [],
   "source": [
    "# подсчет существительных\n",
    "main_text['nouns'] = main_text.apply(lambda x: count_pos(x['value'], 'NOUN'), axis=1)\n",
    "additional_data_text['nouns'] = additional_data_text.apply(lambda x: count_pos(x['Чему вы научились в рамках курса?'], \n",
    "                                                                               'NOUN'), axis=1)"
   ]
  },
  {
   "cell_type": "code",
   "execution_count": 72,
   "metadata": {},
   "outputs": [],
   "source": [
    "# подсчет глаголов (личная форма)\n",
    "main_text['verbs'] = main_text.apply(lambda x: count_pos(x['value'], 'VERB'), axis=1)\n",
    "additional_data_text['verbs'] = additional_data_text.apply(lambda x: count_pos(x['Чему вы научились в рамках курса?'], \n",
    "                                                                               'VERB'), axis=1)"
   ]
  },
  {
   "cell_type": "code",
   "execution_count": 73,
   "metadata": {},
   "outputs": [],
   "source": [
    "# подсчет глаголов (инфинитив)\n",
    "main_text['inf'] = main_text.apply(lambda x: count_pos(x['value'], 'INFN'), axis=1)\n",
    "additional_data_text['inf'] = additional_data_text.apply(lambda x: count_pos(x['Чему вы научились в рамках курса?'], \n",
    "                                                                               'INFN'), axis=1)"
   ]
  },
  {
   "cell_type": "code",
   "execution_count": 74,
   "metadata": {},
   "outputs": [],
   "source": [
    "# подсчет прилагательных\n",
    "main_text['adj'] = main_text.apply(lambda x: count_pos(x['value'], 'ADJF'), axis=1)\n",
    "additional_data_text['adj'] = additional_data_text.apply(lambda x: count_pos(x['Чему вы научились в рамках курса?'], \n",
    "                                                                               'ADJF'), axis=1)"
   ]
  },
  {
   "cell_type": "code",
   "execution_count": 75,
   "metadata": {},
   "outputs": [],
   "source": [
    "# подсчет наречий\n",
    "main_text['advb'] = main_text.apply(lambda x: count_pos(x['value'], 'ADVB'), axis=1)\n",
    "additional_data_text['advb'] = additional_data_text.apply(lambda x: count_pos(x['Чему вы научились в рамках курса?'], \n",
    "                                                                               'ADVB'), axis=1)"
   ]
  },
  {
   "cell_type": "code",
   "execution_count": 76,
   "metadata": {},
   "outputs": [],
   "source": [
    "# подсчет местоимений\n",
    "main_text['pronoun'] = main_text.apply(lambda x: count_pos(x['value'], 'NPRO'), axis=1)\n",
    "additional_data_text['pronoun'] = additional_data_text.apply(lambda x: count_pos(x['Чему вы научились в рамках курса?'], \n",
    "                                                                               'NPRO'), axis=1)"
   ]
  },
  {
   "cell_type": "code",
   "execution_count": 77,
   "metadata": {},
   "outputs": [
    {
     "data": {
      "text/html": [
       "<div>\n",
       "<style scoped>\n",
       "    .dataframe tbody tr th:only-of-type {\n",
       "        vertical-align: middle;\n",
       "    }\n",
       "\n",
       "    .dataframe tbody tr th {\n",
       "        vertical-align: top;\n",
       "    }\n",
       "\n",
       "    .dataframe thead th {\n",
       "        text-align: right;\n",
       "    }\n",
       "</style>\n",
       "<table border=\"1\" class=\"dataframe\">\n",
       "  <thead>\n",
       "    <tr style=\"text-align: right;\">\n",
       "      <th></th>\n",
       "      <th>Чему вы научились в рамках курса?</th>\n",
       "      <th>nouns</th>\n",
       "      <th>verbs</th>\n",
       "      <th>inf</th>\n",
       "      <th>adj</th>\n",
       "      <th>advb</th>\n",
       "      <th>pronoun</th>\n",
       "    </tr>\n",
       "  </thead>\n",
       "  <tbody>\n",
       "    <tr>\n",
       "      <th>0</th>\n",
       "      <td>Оформила страницу в социальной сети, определил...</td>\n",
       "      <td>7</td>\n",
       "      <td>6</td>\n",
       "      <td>1</td>\n",
       "      <td>2</td>\n",
       "      <td>0</td>\n",
       "      <td>0</td>\n",
       "    </tr>\n",
       "    <tr>\n",
       "      <th>1</th>\n",
       "      <td>До начала курса я немного был знаком с основам...</td>\n",
       "      <td>16</td>\n",
       "      <td>4</td>\n",
       "      <td>1</td>\n",
       "      <td>2</td>\n",
       "      <td>2</td>\n",
       "      <td>5</td>\n",
       "    </tr>\n",
       "    <tr>\n",
       "      <th>2</th>\n",
       "      <td>Очень много новой информации. Научились состав...</td>\n",
       "      <td>4</td>\n",
       "      <td>1</td>\n",
       "      <td>5</td>\n",
       "      <td>3</td>\n",
       "      <td>3</td>\n",
       "      <td>0</td>\n",
       "    </tr>\n",
       "    <tr>\n",
       "      <th>3</th>\n",
       "      <td>Очень полезный курс, научилась грамотно вести ...</td>\n",
       "      <td>8</td>\n",
       "      <td>2</td>\n",
       "      <td>3</td>\n",
       "      <td>5</td>\n",
       "      <td>4</td>\n",
       "      <td>0</td>\n",
       "    </tr>\n",
       "    <tr>\n",
       "      <th>4</th>\n",
       "      <td>научилась очень многому благодаря компетенции ...</td>\n",
       "      <td>22</td>\n",
       "      <td>5</td>\n",
       "      <td>2</td>\n",
       "      <td>6</td>\n",
       "      <td>9</td>\n",
       "      <td>2</td>\n",
       "    </tr>\n",
       "    <tr>\n",
       "      <th>...</th>\n",
       "      <td>...</td>\n",
       "      <td>...</td>\n",
       "      <td>...</td>\n",
       "      <td>...</td>\n",
       "      <td>...</td>\n",
       "      <td>...</td>\n",
       "      <td>...</td>\n",
       "    </tr>\n",
       "    <tr>\n",
       "      <th>1251</th>\n",
       "      <td>Курсы по этой программе весьма интересны и име...</td>\n",
       "      <td>11</td>\n",
       "      <td>2</td>\n",
       "      <td>1</td>\n",
       "      <td>4</td>\n",
       "      <td>2</td>\n",
       "      <td>0</td>\n",
       "    </tr>\n",
       "    <tr>\n",
       "      <th>1252</th>\n",
       "      <td>Узнал много инструментов для разработки прилож...</td>\n",
       "      <td>7</td>\n",
       "      <td>2</td>\n",
       "      <td>0</td>\n",
       "      <td>1</td>\n",
       "      <td>1</td>\n",
       "      <td>1</td>\n",
       "    </tr>\n",
       "    <tr>\n",
       "      <th>1253</th>\n",
       "      <td>Да очень, много познавательного интересного уз...</td>\n",
       "      <td>0</td>\n",
       "      <td>1</td>\n",
       "      <td>0</td>\n",
       "      <td>2</td>\n",
       "      <td>2</td>\n",
       "      <td>1</td>\n",
       "    </tr>\n",
       "    <tr>\n",
       "      <th>1254</th>\n",
       "      <td>Есть полезная информация, которую стоит держат...</td>\n",
       "      <td>2</td>\n",
       "      <td>1</td>\n",
       "      <td>1</td>\n",
       "      <td>2</td>\n",
       "      <td>0</td>\n",
       "      <td>1</td>\n",
       "    </tr>\n",
       "    <tr>\n",
       "      <th>1255</th>\n",
       "      <td>структуру разработки мобильных приложений</td>\n",
       "      <td>3</td>\n",
       "      <td>0</td>\n",
       "      <td>0</td>\n",
       "      <td>1</td>\n",
       "      <td>0</td>\n",
       "      <td>0</td>\n",
       "    </tr>\n",
       "  </tbody>\n",
       "</table>\n",
       "<p>1256 rows × 7 columns</p>\n",
       "</div>"
      ],
      "text/plain": [
       "                      Чему вы научились в рамках курса?  nouns  verbs  inf  \\\n",
       "0     Оформила страницу в социальной сети, определил...      7      6    1   \n",
       "1     До начала курса я немного был знаком с основам...     16      4    1   \n",
       "2     Очень много новой информации. Научились состав...      4      1    5   \n",
       "3     Очень полезный курс, научилась грамотно вести ...      8      2    3   \n",
       "4     научилась очень многому благодаря компетенции ...     22      5    2   \n",
       "...                                                 ...    ...    ...  ...   \n",
       "1251  Курсы по этой программе весьма интересны и име...     11      2    1   \n",
       "1252  Узнал много инструментов для разработки прилож...      7      2    0   \n",
       "1253  Да очень, много познавательного интересного уз...      0      1    0   \n",
       "1254  Есть полезная информация, которую стоит держат...      2      1    1   \n",
       "1255          структуру разработки мобильных приложений      3      0    0   \n",
       "\n",
       "      adj  advb  pronoun  \n",
       "0       2     0        0  \n",
       "1       2     2        5  \n",
       "2       3     3        0  \n",
       "3       5     4        0  \n",
       "4       6     9        2  \n",
       "...   ...   ...      ...  \n",
       "1251    4     2        0  \n",
       "1252    1     1        1  \n",
       "1253    2     2        1  \n",
       "1254    2     0        1  \n",
       "1255    1     0        0  \n",
       "\n",
       "[1256 rows x 7 columns]"
      ]
     },
     "execution_count": 77,
     "metadata": {},
     "output_type": "execute_result"
    }
   ],
   "source": [
    "additional_data_text[['Чему вы научились в рамках курса?','nouns', 'verbs','inf','adj','advb','pronoun']]"
   ]
  },
  {
   "cell_type": "markdown",
   "metadata": {},
   "source": [
    "### Features: кол-во слов с ошибками\n",
    "\n",
    "Для проверки правописания русских и английских слов спользуем библиотеку `pyenchant`."
   ]
  },
  {
   "cell_type": "code",
   "execution_count": 78,
   "metadata": {},
   "outputs": [],
   "source": [
    "import re\n",
    "import enchant\n",
    "from enchant.checker import SpellChecker\n",
    "from nltk.tokenize import ToktokTokenizer\n",
    "\n",
    "# инициализируем словари\n",
    "d_ru = enchant.DictWithPWL('ru')\n",
    "d_eng = enchant.DictWithPWL('ru')\n",
    "\n",
    "#инициализируем токенайзер\n",
    "toktok = ToktokTokenizer()"
   ]
  },
  {
   "cell_type": "code",
   "execution_count": 79,
   "metadata": {},
   "outputs": [],
   "source": [
    "def spell_check(line):\n",
    "    char_regex = re.compile(r'[^а-яa-z]')\n",
    "    line = char_regex.sub(' ', line.lower())\n",
    "    \n",
    "    chkr_ru = SpellChecker(d_ru)\n",
    "    chkr_ru.set_text(line)\n",
    "    mistakes_ru = set([err.word for err in chkr_ru])\n",
    "    \n",
    "    chkr_eng = SpellChecker(d_eng)\n",
    "    chkr_eng.set_text(line)\n",
    "    mistakes_eng = set([err.word for err in chkr_eng])\n",
    "    \n",
    "    tokenized = toktok.tokenize(line)\n",
    "    num_mistakes=0\n",
    "    for i in tokenized:\n",
    "        if i in mistakes_ru and i in mistakes_eng:\n",
    "            num_mistakes+=1\n",
    "            \n",
    "    return num_mistakes"
   ]
  },
  {
   "cell_type": "code",
   "execution_count": 80,
   "metadata": {},
   "outputs": [],
   "source": [
    "main_text['num_mistakes'] = main_text['value'].apply(spell_check)"
   ]
  },
  {
   "cell_type": "code",
   "execution_count": 81,
   "metadata": {},
   "outputs": [],
   "source": [
    "additional_data_text['num_mistakes'] = additional_data_text['Чему вы научились в рамках курса?'].apply(spell_check)"
   ]
  },
  {
   "cell_type": "code",
   "execution_count": 82,
   "metadata": {},
   "outputs": [
    {
     "data": {
      "text/plain": [
       "0     2750\n",
       "1      476\n",
       "2      142\n",
       "3       43\n",
       "4       19\n",
       "6        7\n",
       "5        2\n",
       "18       1\n",
       "8        1\n",
       "Name: num_mistakes, dtype: int64"
      ]
     },
     "execution_count": 82,
     "metadata": {},
     "output_type": "execute_result"
    }
   ],
   "source": [
    "main_text['num_mistakes'].value_counts()"
   ]
  },
  {
   "cell_type": "code",
   "execution_count": 83,
   "metadata": {},
   "outputs": [
    {
     "data": {
      "text/plain": [
       "0     608\n",
       "1     276\n",
       "2     145\n",
       "3      73\n",
       "4      43\n",
       "5      32\n",
       "6      22\n",
       "8      11\n",
       "7      11\n",
       "10      9\n",
       "11      5\n",
       "12      5\n",
       "9       4\n",
       "13      4\n",
       "15      2\n",
       "22      1\n",
       "16      1\n",
       "18      1\n",
       "20      1\n",
       "21      1\n",
       "25      1\n",
       "Name: num_mistakes, dtype: int64"
      ]
     },
     "execution_count": 83,
     "metadata": {},
     "output_type": "execute_result"
    }
   ],
   "source": [
    "additional_data_text['num_mistakes'].value_counts()"
   ]
  },
  {
   "cell_type": "markdown",
   "metadata": {},
   "source": [
    "### Агрегация средних значений выделенных признаков по каждому юзеру"
   ]
  },
  {
   "cell_type": "code",
   "execution_count": 88,
   "metadata": {},
   "outputs": [],
   "source": [
    "agg_additional_data_text = additional_data_text[['untiID', 'sentiment_negative', 'sentiment_neutral','sentiment_positive', \n",
    "                                                 'sentiment_skip','sentiment_speech','ner','answer_len',\n",
    "                                                 'upper_case_word_count','punctuation_count',\n",
    "                                                'nouns', 'verbs','inf','adj','advb','pronoun',\n",
    "                                                 'num_mistakes']].groupby(['untiID'],\n",
    "                                                      as_index=False).agg(np.mean)\n",
    "\n",
    "agg_main_text = main_text[['untiID', 'sentiment_negative', 'sentiment_neutral','sentiment_positive', \n",
    "                           'sentiment_skip','sentiment_speech','ner','answer_len',\n",
    "                           'upper_case_word_count','punctuation_count',\n",
    "                          'nouns', 'verbs','inf','adj','advb','pronoun','num_mistakes']].groupby(['untiID'],\n",
    "                       as_index=False).agg(np.mean)\n"
   ]
  },
  {
   "cell_type": "code",
   "execution_count": 89,
   "metadata": {},
   "outputs": [
    {
     "data": {
      "text/html": [
       "<div>\n",
       "<style scoped>\n",
       "    .dataframe tbody tr th:only-of-type {\n",
       "        vertical-align: middle;\n",
       "    }\n",
       "\n",
       "    .dataframe tbody tr th {\n",
       "        vertical-align: top;\n",
       "    }\n",
       "\n",
       "    .dataframe thead th {\n",
       "        text-align: right;\n",
       "    }\n",
       "</style>\n",
       "<table border=\"1\" class=\"dataframe\">\n",
       "  <thead>\n",
       "    <tr style=\"text-align: right;\">\n",
       "      <th></th>\n",
       "      <th>untiID</th>\n",
       "      <th>sentiment_negative</th>\n",
       "      <th>sentiment_neutral</th>\n",
       "      <th>sentiment_positive</th>\n",
       "      <th>sentiment_skip</th>\n",
       "      <th>sentiment_speech</th>\n",
       "      <th>ner</th>\n",
       "      <th>answer_len</th>\n",
       "      <th>upper_case_word_count</th>\n",
       "      <th>punctuation_count</th>\n",
       "      <th>nouns</th>\n",
       "      <th>verbs</th>\n",
       "      <th>inf</th>\n",
       "      <th>adj</th>\n",
       "      <th>advb</th>\n",
       "      <th>pronoun</th>\n",
       "      <th>num_mistakes</th>\n",
       "    </tr>\n",
       "  </thead>\n",
       "  <tbody>\n",
       "    <tr>\n",
       "      <th>0</th>\n",
       "      <td>220</td>\n",
       "      <td>0.0</td>\n",
       "      <td>1</td>\n",
       "      <td>0</td>\n",
       "      <td>0.0</td>\n",
       "      <td>0</td>\n",
       "      <td>0.0</td>\n",
       "      <td>159.0</td>\n",
       "      <td>2.0</td>\n",
       "      <td>4.0</td>\n",
       "      <td>9.0</td>\n",
       "      <td>1.0</td>\n",
       "      <td>1.0</td>\n",
       "      <td>1.0</td>\n",
       "      <td>0.0</td>\n",
       "      <td>1.0</td>\n",
       "      <td>1.0</td>\n",
       "    </tr>\n",
       "  </tbody>\n",
       "</table>\n",
       "</div>"
      ],
      "text/plain": [
       "   untiID  sentiment_negative  sentiment_neutral  sentiment_positive  \\\n",
       "0     220                 0.0                  1                   0   \n",
       "\n",
       "   sentiment_skip  sentiment_speech  ner  answer_len  upper_case_word_count  \\\n",
       "0             0.0                 0  0.0       159.0                    2.0   \n",
       "\n",
       "   punctuation_count  nouns  verbs  inf  adj  advb  pronoun  num_mistakes  \n",
       "0                4.0    9.0    1.0  1.0  1.0   0.0      1.0           1.0  "
      ]
     },
     "execution_count": 89,
     "metadata": {},
     "output_type": "execute_result"
    }
   ],
   "source": [
    "agg_additional_data_text.head(1)"
   ]
  },
  {
   "cell_type": "code",
   "execution_count": 90,
   "metadata": {},
   "outputs": [
    {
     "data": {
      "text/html": [
       "<div>\n",
       "<style scoped>\n",
       "    .dataframe tbody tr th:only-of-type {\n",
       "        vertical-align: middle;\n",
       "    }\n",
       "\n",
       "    .dataframe tbody tr th {\n",
       "        vertical-align: top;\n",
       "    }\n",
       "\n",
       "    .dataframe thead th {\n",
       "        text-align: right;\n",
       "    }\n",
       "</style>\n",
       "<table border=\"1\" class=\"dataframe\">\n",
       "  <thead>\n",
       "    <tr style=\"text-align: right;\">\n",
       "      <th></th>\n",
       "      <th>untiID</th>\n",
       "      <th>sentiment_negative</th>\n",
       "      <th>sentiment_neutral</th>\n",
       "      <th>sentiment_positive</th>\n",
       "      <th>sentiment_skip</th>\n",
       "      <th>sentiment_speech</th>\n",
       "      <th>ner</th>\n",
       "      <th>answer_len</th>\n",
       "      <th>upper_case_word_count</th>\n",
       "      <th>punctuation_count</th>\n",
       "      <th>nouns</th>\n",
       "      <th>verbs</th>\n",
       "      <th>inf</th>\n",
       "      <th>adj</th>\n",
       "      <th>advb</th>\n",
       "      <th>pronoun</th>\n",
       "      <th>num_mistakes</th>\n",
       "    </tr>\n",
       "  </thead>\n",
       "  <tbody>\n",
       "    <tr>\n",
       "      <th>0</th>\n",
       "      <td>4</td>\n",
       "      <td>0.0</td>\n",
       "      <td>0.972222</td>\n",
       "      <td>0.027778</td>\n",
       "      <td>0.0</td>\n",
       "      <td>0.0</td>\n",
       "      <td>0.583333</td>\n",
       "      <td>1.75</td>\n",
       "      <td>0.027778</td>\n",
       "      <td>0.055556</td>\n",
       "      <td>0.027778</td>\n",
       "      <td>0.0</td>\n",
       "      <td>0.0</td>\n",
       "      <td>0.027778</td>\n",
       "      <td>0.0</td>\n",
       "      <td>0.0</td>\n",
       "      <td>0.027778</td>\n",
       "    </tr>\n",
       "  </tbody>\n",
       "</table>\n",
       "</div>"
      ],
      "text/plain": [
       "   untiID  sentiment_negative  sentiment_neutral  sentiment_positive  \\\n",
       "0       4                 0.0           0.972222            0.027778   \n",
       "\n",
       "   sentiment_skip  sentiment_speech       ner  answer_len  \\\n",
       "0             0.0               0.0  0.583333        1.75   \n",
       "\n",
       "   upper_case_word_count  punctuation_count     nouns  verbs  inf       adj  \\\n",
       "0               0.027778           0.055556  0.027778    0.0  0.0  0.027778   \n",
       "\n",
       "   advb  pronoun  num_mistakes  \n",
       "0   0.0      0.0      0.027778  "
      ]
     },
     "execution_count": 90,
     "metadata": {},
     "output_type": "execute_result"
    }
   ],
   "source": [
    "agg_main_text.head(1)"
   ]
  },
  {
   "cell_type": "code",
   "execution_count": 91,
   "metadata": {},
   "outputs": [
    {
     "data": {
      "text/plain": [
       "(1634, 17)"
      ]
     },
     "execution_count": 91,
     "metadata": {},
     "output_type": "execute_result"
    }
   ],
   "source": [
    "# Объединим основные и доп агрегаты\n",
    "agg = pd.concat([agg_main_text, agg_additional_data_text])\n",
    "agg.shape"
   ]
  },
  {
   "cell_type": "markdown",
   "metadata": {},
   "source": [
    "### Финальные датасеты\n",
    "#### Объединим агрегированные текст.фичи и агрегаты диагностик "
   ]
  },
  {
   "cell_type": "code",
   "execution_count": 93,
   "metadata": {},
   "outputs": [
    {
     "data": {
      "text/plain": [
       "((1451, 327), (127, 681))"
      ]
     },
     "execution_count": 93,
     "metadata": {},
     "output_type": "execute_result"
    }
   ],
   "source": [
    "df_train = pd.read_csv('diag_large_train.csv')\n",
    "df_test = pd.read_csv('diag_test_agg.csv')\n",
    "\n",
    "df_train.shape, df_test.shape"
   ]
  },
  {
   "cell_type": "code",
   "execution_count": 94,
   "metadata": {},
   "outputs": [
    {
     "data": {
      "text/plain": [
       "((1417, 343), (110, 343))"
      ]
     },
     "execution_count": 94,
     "metadata": {},
     "output_type": "execute_result"
    }
   ],
   "source": [
    "train = pd.merge(agg, df_train, on=['untiID'])\n",
    "test = pd.merge(agg, df_test, on=['untiID'])\n",
    "test = test[train.columns.tolist()]\n",
    "train.shape, test.shape"
   ]
  },
  {
   "cell_type": "code",
   "execution_count": 80,
   "metadata": {},
   "outputs": [],
   "source": [
    "train.to_csv('train.csv',index=False)\n",
    "test.to_csv('test.csv',index=False)"
   ]
  },
  {
   "cell_type": "code",
   "execution_count": null,
   "metadata": {},
   "outputs": [],
   "source": []
  }
 ],
 "metadata": {
  "kernelspec": {
   "display_name": "Python 3",
   "language": "python",
   "name": "python3"
  },
  "language_info": {
   "codemirror_mode": {
    "name": "ipython",
    "version": 3
   },
   "file_extension": ".py",
   "mimetype": "text/x-python",
   "name": "python",
   "nbconvert_exporter": "python",
   "pygments_lexer": "ipython3",
   "version": "3.7.9"
  }
 },
 "nbformat": 4,
 "nbformat_minor": 4
}
