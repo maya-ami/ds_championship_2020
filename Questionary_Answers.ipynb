{
 "cells": [
  {
   "cell_type": "markdown",
   "metadata": {},
   "source": [
    "## Решения для вопросов анкеты\n",
    "\n",
    "https://my.2035.university/AI_2020_Championship/activity/AI_2020_Championship_unti_diag"
   ]
  },
  {
   "cell_type": "code",
   "execution_count": 1,
   "metadata": {},
   "outputs": [],
   "source": [
    "import os\n",
    "import numpy as np\n",
    "import pandas as pd\n",
    "import seaborn as sns\n",
    "from functools import reduce\n",
    "import matplotlib.pyplot as plt\n",
    "%matplotlib inline\n",
    "import warnings\n",
    "warnings.filterwarnings('ignore')"
   ]
  },
  {
   "cell_type": "code",
   "execution_count": 2,
   "metadata": {},
   "outputs": [
    {
     "data": {
      "text/plain": [
       "(9128, 15)"
      ]
     },
     "execution_count": 2,
     "metadata": {},
     "output_type": "execute_result"
    }
   ],
   "source": [
    "text_df = pd.read_csv('fixed_reflex_texts.csv')\n",
    "text_df.shape"
   ]
  },
  {
   "cell_type": "markdown",
   "metadata": {},
   "source": [
    "### Q1\n",
    "Выберите вариант, в котором указаны три более популярных, по сравнению с остальными, ответа на вопрос об оценке сетевого интенсива (value) в рефлексии участников диагностик \n",
    "\n",
    "__Answer__: 10, 9, *"
   ]
  },
  {
   "cell_type": "code",
   "execution_count": 3,
   "metadata": {},
   "outputs": [
    {
     "data": {
      "text/plain": [
       "10    1295\n",
       "9      289\n",
       "*      243\n",
       "8      233\n",
       "1      172\n",
       "Name: value, dtype: int64"
      ]
     },
     "execution_count": 3,
     "metadata": {},
     "output_type": "execute_result"
    }
   ],
   "source": [
    "text_df['value'].value_counts()[:5]"
   ]
  },
  {
   "cell_type": "markdown",
   "metadata": {},
   "source": [
    "### Q2\n",
    "Укажите количество людей, оставивших комментарии в рефлексии участников диагностик\n",
    "\n",
    "__Answer:__ 450"
   ]
  },
  {
   "cell_type": "code",
   "execution_count": 23,
   "metadata": {},
   "outputs": [
    {
     "data": {
      "text/plain": [
       "450"
      ]
     },
     "execution_count": 23,
     "metadata": {},
     "output_type": "execute_result"
    }
   ],
   "source": [
    "len(text_df['untiID'].unique())"
   ]
  },
  {
   "cell_type": "markdown",
   "metadata": {},
   "source": [
    "### Q3\n",
    "В какой базе данных больше всего людей, прошедших обязательные активности?\n",
    "\n",
    "- В каждой БД выберем только строки с \"Количество пройденных обязательных активностей\" не равно нулю\n",
    "- Определим кол-во уникальных id\n",
    "- Найдем, в какой БД больше всего таких уникальных id, прошедших обязательные активности\n",
    "\n",
    "__Answer:__ 4"
   ]
  },
  {
   "cell_type": "code",
   "execution_count": 65,
   "metadata": {},
   "outputs": [],
   "source": [
    "df1 = pd.read_excel('database01.xlsx', header=1)\n",
    "df2 = pd.read_excel('database02.xlsx', header=1)\n",
    "df3 = pd.read_excel('database03.xlsx', header=1)\n",
    "df4 = pd.read_excel('database04.xlsx', header=1)\n",
    "df5 = pd.read_excel('database05.xlsx', header=1)\n",
    "df6 = pd.read_excel('database06.xlsx', header=1)\n",
    "df7 = pd.read_excel('database07.xlsx', header=1)\n",
    "df8 = pd.read_excel('database08.xlsx', header=1)\n",
    "df9 = pd.read_excel('database09.xlsx', header=1)\n",
    "df10 = pd.read_excel('database10.xlsx',header=1)"
   ]
  },
  {
   "cell_type": "code",
   "execution_count": 66,
   "metadata": {},
   "outputs": [
    {
     "name": "stdout",
     "output_type": "stream",
     "text": [
      "db_1:  191\n",
      "db_2:  151\n",
      "db_3:  231\n",
      "db_4:  703\n",
      "db_5:  465\n",
      "db_6:  322\n",
      "db_7:  157\n",
      "db_8:  125\n",
      "db_9:  219\n",
      "db_10:  690\n",
      "Больше всего людей, прошедших обязательные активности в БД № 4\n"
     ]
    }
   ],
   "source": [
    "lst = []\n",
    "for ind, df in enumerate([df1, df2, df3, df4, df5, df6, df7, df8, df9, df10]):\n",
    "    full_unique = len(df[df['Количество пройденных обязательных активностей']!=0]['Unti ID'].unique())\n",
    "    lst.append(full_unique)\n",
    "    print(\"db_{}: \".format(ind+1), full_unique)\n",
    "    \n",
    "\n",
    "print(\"Больше всего людей, прошедших обязательные активности в БД №\", np.argmax(np.array(lst))+1)"
   ]
  },
  {
   "cell_type": "markdown",
   "metadata": {},
   "source": [
    "### Q4\n",
    "В какой базе данных меньше всего людей, прошедших необязательные активности?\n",
    "\n",
    "- В каждой БД выберем только строки с \"Количество пройденных дополнительных активностей\" не равно нулю\n",
    "- Определим кол-во уникальных id\n",
    "- Найдем, в какой БД меньше всего таких уникальных id, прошедших обязательные активности\n",
    "\n",
    "__Answer:__ 8"
   ]
  },
  {
   "cell_type": "code",
   "execution_count": 71,
   "metadata": {},
   "outputs": [
    {
     "name": "stdout",
     "output_type": "stream",
     "text": [
      "db_1:  111\n",
      "db_2:  94\n",
      "db_3:  125\n",
      "db_4:  383\n",
      "db_5:  262\n",
      "db_6:  170\n",
      "db_7:  88\n",
      "db_8:  85\n",
      "db_9:  112\n",
      "db_10:  467\n",
      "Меньше всего людей, прошедших дополнительные активности в БД № 8\n"
     ]
    }
   ],
   "source": [
    "lst = []\n",
    "for ind, df in enumerate([df1, df2, df3, df4, df5, df6, df7, df8, df9, df10]):\n",
    "    add_unique = len(df[df['Количество пройденных дополнительных активностей']!=0]['Unti ID'].unique())\n",
    "    lst.append(add_unique)\n",
    "    print(\"db_{}: \".format(ind+1), add_unique)\n",
    "    \n",
    "\n",
    "print(\"Меньше всего людей, прошедших дополнительные активности в БД №\", np.argmin(np.array(lst))+1)"
   ]
  },
  {
   "cell_type": "markdown",
   "metadata": {},
   "source": [
    "### Q5\n",
    "В какой базе данных самый большой % людей, прошедших необязательные активности? \n",
    "- Database10, 65%\n",
    "- Database06, 44%\n",
    "- Database10, 83%\n",
    "- Database08, 43%\n",
    "- Нет правильного ответа\n",
    "\n",
    "__Answer__: Нет правильного ответа (Правильный: Database08, 65%)"
   ]
  },
  {
   "cell_type": "code",
   "execution_count": 73,
   "metadata": {},
   "outputs": [
    {
     "name": "stdout",
     "output_type": "stream",
     "text": [
      "db_1:  53.110047846889955\n",
      "db_2:  60.256410256410255\n",
      "db_3:  49.40711462450593\n",
      "db_4:  45.8133971291866\n",
      "db_5:  51.07212475633528\n",
      "db_6:  43.927648578811365\n",
      "db_7:  53.987730061349694\n",
      "db_8:  65.38461538461539\n",
      "db_9:  43.41085271317829\n",
      "db_10:  60.96605744125326\n",
      "Самый большой % людей, прошедших дополнительные активности в БД № 8\n"
     ]
    }
   ],
   "source": [
    "lst = []\n",
    "for ind, df in enumerate([df1, df2, df3, df4, df5, df6, df7, df8, df9, df10]):\n",
    "    add_perc_unique = len(df[df['Количество пройденных дополнительных активностей']!=0]['Unti ID'].unique()) / len(df['Unti ID'].unique()) * 100\n",
    "    lst.append(add_perc_unique)\n",
    "    print(\"db_{}: \".format(ind+1), add_perc_unique)\n",
    "    \n",
    "\n",
    "print(\"Самый большой % людей, прошедших дополнительные активности в БД №\", np.argmax(np.array(lst))+1)"
   ]
  },
  {
   "cell_type": "markdown",
   "metadata": {},
   "source": [
    "### Q6\n",
    "Сколько ответов в рефлексии участников диагностики собрали мероприятия «Первый день» и «Второй день» вместе взятые?\n",
    "\n",
    "__Answer:__ 5"
   ]
  },
  {
   "cell_type": "code",
   "execution_count": 28,
   "metadata": {},
   "outputs": [
    {
     "data": {
      "text/plain": [
       "(10, 16)"
      ]
     },
     "execution_count": 28,
     "metadata": {},
     "output_type": "execute_result"
    }
   ],
   "source": [
    "day1_2 = text_df[text_df['eventTitle'].isin(['Первый день', 'Второй день'])]\n",
    "day1_2.shape"
   ]
  },
  {
   "cell_type": "code",
   "execution_count": 29,
   "metadata": {},
   "outputs": [
    {
     "data": {
      "text/html": [
       "<div>\n",
       "<style scoped>\n",
       "    .dataframe tbody tr th:only-of-type {\n",
       "        vertical-align: middle;\n",
       "    }\n",
       "\n",
       "    .dataframe tbody tr th {\n",
       "        vertical-align: top;\n",
       "    }\n",
       "\n",
       "    .dataframe thead th {\n",
       "        text-align: right;\n",
       "    }\n",
       "</style>\n",
       "<table border=\"1\" class=\"dataframe\">\n",
       "  <thead>\n",
       "    <tr style=\"text-align: right;\">\n",
       "      <th></th>\n",
       "      <th>eventUUID</th>\n",
       "      <th>eventTitle</th>\n",
       "      <th>a_title</th>\n",
       "      <th>startDate</th>\n",
       "      <th>startTime</th>\n",
       "      <th>endDate</th>\n",
       "      <th>endTime</th>\n",
       "      <th>untiID</th>\n",
       "      <th>feedbackQuestionID</th>\n",
       "      <th>question</th>\n",
       "      <th>value</th>\n",
       "      <th>data</th>\n",
       "      <th>Unnamed: 12</th>\n",
       "      <th>Unnamed: 13</th>\n",
       "      <th>Unnamed: 14</th>\n",
       "      <th>value_num</th>\n",
       "    </tr>\n",
       "  </thead>\n",
       "  <tbody>\n",
       "    <tr>\n",
       "      <th>2300</th>\n",
       "      <td>6c09686f-30b3-490f-8270-0bd0976e0e54</td>\n",
       "      <td>Первый день</td>\n",
       "      <td>Практический онлайн мастер-класс «Эффективное ...</td>\n",
       "      <td>2020-04-28</td>\n",
       "      <td>10:00:00</td>\n",
       "      <td>2020-04-28</td>\n",
       "      <td>12:00:00</td>\n",
       "      <td>149034</td>\n",
       "      <td>44</td>\n",
       "      <td>Насколько вероятно, что Вы порекомендуете меро...</td>\n",
       "      <td>10</td>\n",
       "      <td>NaN</td>\n",
       "      <td>NaN</td>\n",
       "      <td>NaN</td>\n",
       "      <td>NaN</td>\n",
       "      <td>10.0</td>\n",
       "    </tr>\n",
       "    <tr>\n",
       "      <th>2301</th>\n",
       "      <td>6c09686f-30b3-490f-8270-0bd0976e0e54</td>\n",
       "      <td>Первый день</td>\n",
       "      <td>Практический онлайн мастер-класс «Эффективное ...</td>\n",
       "      <td>2020-04-28</td>\n",
       "      <td>10:00:00</td>\n",
       "      <td>2020-04-28</td>\n",
       "      <td>12:00:00</td>\n",
       "      <td>149034</td>\n",
       "      <td>46</td>\n",
       "      <td>Перечислите основные этапы деятельности, в кот...</td>\n",
       "      <td>Применение новых функций в САПР AD20</td>\n",
       "      <td>NaN</td>\n",
       "      <td>NaN</td>\n",
       "      <td>NaN</td>\n",
       "      <td>NaN</td>\n",
       "      <td>NaN</td>\n",
       "    </tr>\n",
       "    <tr>\n",
       "      <th>2302</th>\n",
       "      <td>6c09686f-30b3-490f-8270-0bd0976e0e54</td>\n",
       "      <td>Первый день</td>\n",
       "      <td>Практический онлайн мастер-класс «Эффективное ...</td>\n",
       "      <td>2020-04-28</td>\n",
       "      <td>10:00:00</td>\n",
       "      <td>2020-04-28</td>\n",
       "      <td>12:00:00</td>\n",
       "      <td>149034</td>\n",
       "      <td>43</td>\n",
       "      <td>Чему новому, как вам кажется, вы научились?</td>\n",
       "      <td>Трассировке печатных плат с использованием САП...</td>\n",
       "      <td>NaN</td>\n",
       "      <td>NaN</td>\n",
       "      <td>NaN</td>\n",
       "      <td>NaN</td>\n",
       "      <td>NaN</td>\n",
       "    </tr>\n",
       "    <tr>\n",
       "      <th>2303</th>\n",
       "      <td>6c09686f-30b3-490f-8270-0bd0976e0e54</td>\n",
       "      <td>Первый день</td>\n",
       "      <td>Практический онлайн мастер-класс «Эффективное ...</td>\n",
       "      <td>2020-04-28</td>\n",
       "      <td>10:00:00</td>\n",
       "      <td>2020-04-28</td>\n",
       "      <td>12:00:00</td>\n",
       "      <td>149034</td>\n",
       "      <td>55</td>\n",
       "      <td>Была ли в этом ценность и в чем она выражается?</td>\n",
       "      <td>Ценность выражается в опыте работы в САПР AD20</td>\n",
       "      <td>NaN</td>\n",
       "      <td>NaN</td>\n",
       "      <td>NaN</td>\n",
       "      <td>NaN</td>\n",
       "      <td>NaN</td>\n",
       "    </tr>\n",
       "    <tr>\n",
       "      <th>2304</th>\n",
       "      <td>6c09686f-30b3-490f-8270-0bd0976e0e54</td>\n",
       "      <td>Первый день</td>\n",
       "      <td>Практический онлайн мастер-класс «Эффективное ...</td>\n",
       "      <td>2020-04-28</td>\n",
       "      <td>10:00:00</td>\n",
       "      <td>2020-04-28</td>\n",
       "      <td>12:00:00</td>\n",
       "      <td>149034</td>\n",
       "      <td>45</td>\n",
       "      <td>Поделитесь вашими комментариями или пожеланиям...</td>\n",
       "      <td>NaN</td>\n",
       "      <td>NaN</td>\n",
       "      <td>NaN</td>\n",
       "      <td>NaN</td>\n",
       "      <td>NaN</td>\n",
       "      <td>NaN</td>\n",
       "    </tr>\n",
       "    <tr>\n",
       "      <th>2305</th>\n",
       "      <td>e70c9ed3-3b7d-46f0-a453-866122a2b160</td>\n",
       "      <td>Второй день</td>\n",
       "      <td>Практический онлайн мастер-класс «Эффективное ...</td>\n",
       "      <td>2020-04-29</td>\n",
       "      <td>07:00:00</td>\n",
       "      <td>2020-04-29</td>\n",
       "      <td>09:00:00</td>\n",
       "      <td>143239</td>\n",
       "      <td>44</td>\n",
       "      <td>Насколько вероятно, что Вы порекомендуете меро...</td>\n",
       "      <td>9</td>\n",
       "      <td>NaN</td>\n",
       "      <td>NaN</td>\n",
       "      <td>NaN</td>\n",
       "      <td>NaN</td>\n",
       "      <td>9.0</td>\n",
       "    </tr>\n",
       "    <tr>\n",
       "      <th>2306</th>\n",
       "      <td>e70c9ed3-3b7d-46f0-a453-866122a2b160</td>\n",
       "      <td>Второй день</td>\n",
       "      <td>Практический онлайн мастер-класс «Эффективное ...</td>\n",
       "      <td>2020-04-29</td>\n",
       "      <td>07:00:00</td>\n",
       "      <td>2020-04-29</td>\n",
       "      <td>09:00:00</td>\n",
       "      <td>143239</td>\n",
       "      <td>46</td>\n",
       "      <td>Перечислите основные этапы деятельности, в кот...</td>\n",
       "      <td>NaN</td>\n",
       "      <td>NaN</td>\n",
       "      <td>NaN</td>\n",
       "      <td>NaN</td>\n",
       "      <td>NaN</td>\n",
       "      <td>NaN</td>\n",
       "    </tr>\n",
       "    <tr>\n",
       "      <th>2307</th>\n",
       "      <td>e70c9ed3-3b7d-46f0-a453-866122a2b160</td>\n",
       "      <td>Второй день</td>\n",
       "      <td>Практический онлайн мастер-класс «Эффективное ...</td>\n",
       "      <td>2020-04-29</td>\n",
       "      <td>07:00:00</td>\n",
       "      <td>2020-04-29</td>\n",
       "      <td>09:00:00</td>\n",
       "      <td>143239</td>\n",
       "      <td>43</td>\n",
       "      <td>Чему новому, как вам кажется, вы научились?</td>\n",
       "      <td>NaN</td>\n",
       "      <td>NaN</td>\n",
       "      <td>NaN</td>\n",
       "      <td>NaN</td>\n",
       "      <td>NaN</td>\n",
       "      <td>NaN</td>\n",
       "    </tr>\n",
       "    <tr>\n",
       "      <th>2308</th>\n",
       "      <td>e70c9ed3-3b7d-46f0-a453-866122a2b160</td>\n",
       "      <td>Второй день</td>\n",
       "      <td>Практический онлайн мастер-класс «Эффективное ...</td>\n",
       "      <td>2020-04-29</td>\n",
       "      <td>07:00:00</td>\n",
       "      <td>2020-04-29</td>\n",
       "      <td>09:00:00</td>\n",
       "      <td>143239</td>\n",
       "      <td>55</td>\n",
       "      <td>Была ли в этом ценность и в чем она выражается?</td>\n",
       "      <td>NaN</td>\n",
       "      <td>NaN</td>\n",
       "      <td>NaN</td>\n",
       "      <td>NaN</td>\n",
       "      <td>NaN</td>\n",
       "      <td>NaN</td>\n",
       "    </tr>\n",
       "    <tr>\n",
       "      <th>2309</th>\n",
       "      <td>e70c9ed3-3b7d-46f0-a453-866122a2b160</td>\n",
       "      <td>Второй день</td>\n",
       "      <td>Практический онлайн мастер-класс «Эффективное ...</td>\n",
       "      <td>2020-04-29</td>\n",
       "      <td>07:00:00</td>\n",
       "      <td>2020-04-29</td>\n",
       "      <td>09:00:00</td>\n",
       "      <td>143239</td>\n",
       "      <td>45</td>\n",
       "      <td>Поделитесь вашими комментариями или пожеланиям...</td>\n",
       "      <td>NaN</td>\n",
       "      <td>NaN</td>\n",
       "      <td>NaN</td>\n",
       "      <td>NaN</td>\n",
       "      <td>NaN</td>\n",
       "      <td>NaN</td>\n",
       "    </tr>\n",
       "  </tbody>\n",
       "</table>\n",
       "</div>"
      ],
      "text/plain": [
       "                                 eventUUID   eventTitle  \\\n",
       "2300  6c09686f-30b3-490f-8270-0bd0976e0e54  Первый день   \n",
       "2301  6c09686f-30b3-490f-8270-0bd0976e0e54  Первый день   \n",
       "2302  6c09686f-30b3-490f-8270-0bd0976e0e54  Первый день   \n",
       "2303  6c09686f-30b3-490f-8270-0bd0976e0e54  Первый день   \n",
       "2304  6c09686f-30b3-490f-8270-0bd0976e0e54  Первый день   \n",
       "2305  e70c9ed3-3b7d-46f0-a453-866122a2b160  Второй день   \n",
       "2306  e70c9ed3-3b7d-46f0-a453-866122a2b160  Второй день   \n",
       "2307  e70c9ed3-3b7d-46f0-a453-866122a2b160  Второй день   \n",
       "2308  e70c9ed3-3b7d-46f0-a453-866122a2b160  Второй день   \n",
       "2309  e70c9ed3-3b7d-46f0-a453-866122a2b160  Второй день   \n",
       "\n",
       "                                                a_title   startDate startTime  \\\n",
       "2300  Практический онлайн мастер-класс «Эффективное ...  2020-04-28  10:00:00   \n",
       "2301  Практический онлайн мастер-класс «Эффективное ...  2020-04-28  10:00:00   \n",
       "2302  Практический онлайн мастер-класс «Эффективное ...  2020-04-28  10:00:00   \n",
       "2303  Практический онлайн мастер-класс «Эффективное ...  2020-04-28  10:00:00   \n",
       "2304  Практический онлайн мастер-класс «Эффективное ...  2020-04-28  10:00:00   \n",
       "2305  Практический онлайн мастер-класс «Эффективное ...  2020-04-29  07:00:00   \n",
       "2306  Практический онлайн мастер-класс «Эффективное ...  2020-04-29  07:00:00   \n",
       "2307  Практический онлайн мастер-класс «Эффективное ...  2020-04-29  07:00:00   \n",
       "2308  Практический онлайн мастер-класс «Эффективное ...  2020-04-29  07:00:00   \n",
       "2309  Практический онлайн мастер-класс «Эффективное ...  2020-04-29  07:00:00   \n",
       "\n",
       "         endDate   endTime  untiID  feedbackQuestionID  \\\n",
       "2300  2020-04-28  12:00:00  149034                  44   \n",
       "2301  2020-04-28  12:00:00  149034                  46   \n",
       "2302  2020-04-28  12:00:00  149034                  43   \n",
       "2303  2020-04-28  12:00:00  149034                  55   \n",
       "2304  2020-04-28  12:00:00  149034                  45   \n",
       "2305  2020-04-29  09:00:00  143239                  44   \n",
       "2306  2020-04-29  09:00:00  143239                  46   \n",
       "2307  2020-04-29  09:00:00  143239                  43   \n",
       "2308  2020-04-29  09:00:00  143239                  55   \n",
       "2309  2020-04-29  09:00:00  143239                  45   \n",
       "\n",
       "                                               question  \\\n",
       "2300  Насколько вероятно, что Вы порекомендуете меро...   \n",
       "2301  Перечислите основные этапы деятельности, в кот...   \n",
       "2302        Чему новому, как вам кажется, вы научились?   \n",
       "2303    Была ли в этом ценность и в чем она выражается?   \n",
       "2304  Поделитесь вашими комментариями или пожеланиям...   \n",
       "2305  Насколько вероятно, что Вы порекомендуете меро...   \n",
       "2306  Перечислите основные этапы деятельности, в кот...   \n",
       "2307        Чему новому, как вам кажется, вы научились?   \n",
       "2308    Была ли в этом ценность и в чем она выражается?   \n",
       "2309  Поделитесь вашими комментариями или пожеланиям...   \n",
       "\n",
       "                                                  value data Unnamed: 12  \\\n",
       "2300                                                 10  NaN         NaN   \n",
       "2301               Применение новых функций в САПР AD20  NaN         NaN   \n",
       "2302  Трассировке печатных плат с использованием САП...  NaN         NaN   \n",
       "2303     Ценность выражается в опыте работы в САПР AD20  NaN         NaN   \n",
       "2304                                                NaN  NaN         NaN   \n",
       "2305                                                  9  NaN         NaN   \n",
       "2306                                                NaN  NaN         NaN   \n",
       "2307                                                NaN  NaN         NaN   \n",
       "2308                                                NaN  NaN         NaN   \n",
       "2309                                                NaN  NaN         NaN   \n",
       "\n",
       "     Unnamed: 13 Unnamed: 14  value_num  \n",
       "2300         NaN         NaN       10.0  \n",
       "2301         NaN         NaN        NaN  \n",
       "2302         NaN         NaN        NaN  \n",
       "2303         NaN         NaN        NaN  \n",
       "2304         NaN         NaN        NaN  \n",
       "2305         NaN         NaN        9.0  \n",
       "2306         NaN         NaN        NaN  \n",
       "2307         NaN         NaN        NaN  \n",
       "2308         NaN         NaN        NaN  \n",
       "2309         NaN         NaN        NaN  "
      ]
     },
     "execution_count": 29,
     "metadata": {},
     "output_type": "execute_result"
    }
   ],
   "source": [
    "day1_2"
   ]
  },
  {
   "cell_type": "code",
   "execution_count": 30,
   "metadata": {},
   "outputs": [
    {
     "data": {
      "text/plain": [
       "5"
      ]
     },
     "execution_count": 30,
     "metadata": {},
     "output_type": "execute_result"
    }
   ],
   "source": [
    "# how many 'value' == np.nan --> 10-5=5 ответов \n",
    "empty_answers_day1_2 = day1_2['value'].isna().sum()\n",
    "empty_answers_day1_2"
   ]
  },
  {
   "cell_type": "code",
   "execution_count": null,
   "metadata": {},
   "outputs": [],
   "source": []
  },
  {
   "cell_type": "code",
   "execution_count": null,
   "metadata": {},
   "outputs": [],
   "source": []
  }
 ],
 "metadata": {
  "kernelspec": {
   "display_name": "Python 3",
   "language": "python",
   "name": "python3"
  },
  "language_info": {
   "codemirror_mode": {
    "name": "ipython",
    "version": 3
   },
   "file_extension": ".py",
   "mimetype": "text/x-python",
   "name": "python",
   "nbconvert_exporter": "python",
   "pygments_lexer": "ipython3",
   "version": "3.7.9"
  }
 },
 "nbformat": 4,
 "nbformat_minor": 4
}
