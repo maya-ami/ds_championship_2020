{
 "cells": [
  {
   "cell_type": "markdown",
   "metadata": {},
   "source": [
    "### Общий план:\n",
    "- __Заполнить пропуски в данных диагностики__\n",
    "- __Агрегировать результаты диагностики по каждому юзеру__\n",
    "- Выделить фичи из текста\n",
    "- Агрегировать фичи по юзеру\n",
    "- Объединить датасеты\n",
    "- Построить матрицу корреляций по полученному датасету\n",
    "- Наиболее удачные, яркие корреляции рассмотреть подробнее\n",
    "- Построить бейзлайн, лр/бустинг, для прогнозирования результата диагностики по фичам текста"
   ]
  },
  {
   "cell_type": "code",
   "execution_count": 123,
   "metadata": {},
   "outputs": [],
   "source": [
    "import os\n",
    "import numpy as np\n",
    "import pandas as pd\n",
    "import seaborn as sns\n",
    "from functools import reduce\n",
    "import matplotlib.pyplot as plt\n",
    "%matplotlib inline\n",
    "import warnings\n",
    "warnings.filterwarnings('ignore')"
   ]
  },
  {
   "cell_type": "markdown",
   "metadata": {},
   "source": [
    "Работаем с дополнительными данными рефлексии, предоставленными организаторами."
   ]
  },
  {
   "cell_type": "code",
   "execution_count": 11,
   "metadata": {},
   "outputs": [],
   "source": [
    "# для воспроизведения - изменить путь!\n",
    "\n",
    "path = r\"\\Дополнительные данные\\Reflection_data+\""
   ]
  },
  {
   "cell_type": "markdown",
   "metadata": {},
   "source": [
    "### Возьмем только анкеты с ответами на вопрос 'Чему Вы научились в рамках курса?'"
   ]
  },
  {
   "cell_type": "code",
   "execution_count": 61,
   "metadata": {
    "scrolled": true
   },
   "outputs": [],
   "source": [
    "add_data = []\n",
    "for file in os.listdir(os.path.join(path)):\n",
    "    df = pd.read_excel(os.path.join(path,file))\n",
    "#     print(df.columns[1])\n",
    "    if df.columns[1] == 'Чему Вы научились в рамках курса?' or df.columns[1] == 'Чему вы научились в рамках курса?':\n",
    "        df.columns = ['untiID', 'Чему вы научились в рамках курса?']\n",
    "        add_data.append(df)"
   ]
  },
  {
   "cell_type": "code",
   "execution_count": 62,
   "metadata": {},
   "outputs": [
    {
     "data": {
      "text/plain": [
       "51"
      ]
     },
     "execution_count": 62,
     "metadata": {},
     "output_type": "execute_result"
    }
   ],
   "source": [
    "# таких анкет - 51 из 69\n",
    "len(add_data)"
   ]
  },
  {
   "cell_type": "code",
   "execution_count": 63,
   "metadata": {},
   "outputs": [],
   "source": [
    "add_data = pd.concat(add_data)"
   ]
  },
  {
   "cell_type": "code",
   "execution_count": 64,
   "metadata": {},
   "outputs": [
    {
     "data": {
      "text/plain": [
       "(1510, 2)"
      ]
     },
     "execution_count": 64,
     "metadata": {},
     "output_type": "execute_result"
    }
   ],
   "source": [
    "add_data.shape"
   ]
  },
  {
   "cell_type": "code",
   "execution_count": 65,
   "metadata": {},
   "outputs": [
    {
     "data": {
      "text/plain": [
       "untiID                                0\n",
       "Чему вы научились в рамках курса?    29\n",
       "dtype: int64"
      ]
     },
     "execution_count": 65,
     "metadata": {},
     "output_type": "execute_result"
    }
   ],
   "source": [
    "add_data.isna().sum()"
   ]
  },
  {
   "cell_type": "code",
   "execution_count": 66,
   "metadata": {},
   "outputs": [
    {
     "data": {
      "text/html": [
       "<div>\n",
       "<style scoped>\n",
       "    .dataframe tbody tr th:only-of-type {\n",
       "        vertical-align: middle;\n",
       "    }\n",
       "\n",
       "    .dataframe tbody tr th {\n",
       "        vertical-align: top;\n",
       "    }\n",
       "\n",
       "    .dataframe thead th {\n",
       "        text-align: right;\n",
       "    }\n",
       "</style>\n",
       "<table border=\"1\" class=\"dataframe\">\n",
       "  <thead>\n",
       "    <tr style=\"text-align: right;\">\n",
       "      <th></th>\n",
       "      <th>untiID</th>\n",
       "      <th>Чему вы научились в рамках курса?</th>\n",
       "    </tr>\n",
       "  </thead>\n",
       "  <tbody>\n",
       "    <tr>\n",
       "      <th>0</th>\n",
       "      <td>701335</td>\n",
       "      <td>Оформила страницу в социальной сети, определил...</td>\n",
       "    </tr>\n",
       "    <tr>\n",
       "      <th>1</th>\n",
       "      <td>1033016</td>\n",
       "      <td>До начала курса я немного был знаком с основам...</td>\n",
       "    </tr>\n",
       "    <tr>\n",
       "      <th>2</th>\n",
       "      <td>995121</td>\n",
       "      <td>Очень много новой информации. Научились состав...</td>\n",
       "    </tr>\n",
       "    <tr>\n",
       "      <th>3</th>\n",
       "      <td>674661</td>\n",
       "      <td>Очень полезный курс, научилась грамотно вести ...</td>\n",
       "    </tr>\n",
       "    <tr>\n",
       "      <th>4</th>\n",
       "      <td>969910</td>\n",
       "      <td>научилась очень многому благодаря компетенции ...</td>\n",
       "    </tr>\n",
       "    <tr>\n",
       "      <th>...</th>\n",
       "      <td>...</td>\n",
       "      <td>...</td>\n",
       "    </tr>\n",
       "    <tr>\n",
       "      <th>26</th>\n",
       "      <td>1034455</td>\n",
       "      <td>Курсы по этой программе весьма интересны и име...</td>\n",
       "    </tr>\n",
       "    <tr>\n",
       "      <th>27</th>\n",
       "      <td>290243</td>\n",
       "      <td>Узнал много инструментов для разработки прилож...</td>\n",
       "    </tr>\n",
       "    <tr>\n",
       "      <th>28</th>\n",
       "      <td>1002173</td>\n",
       "      <td>Да очень, много познавательного интересного уз...</td>\n",
       "    </tr>\n",
       "    <tr>\n",
       "      <th>29</th>\n",
       "      <td>984791</td>\n",
       "      <td>Есть полезная информация, которую стоит держат...</td>\n",
       "    </tr>\n",
       "    <tr>\n",
       "      <th>30</th>\n",
       "      <td>1002311</td>\n",
       "      <td>структуру разработки мобильных приложений</td>\n",
       "    </tr>\n",
       "  </tbody>\n",
       "</table>\n",
       "<p>1510 rows × 2 columns</p>\n",
       "</div>"
      ],
      "text/plain": [
       "     untiID                  Чему вы научились в рамках курса?\n",
       "0    701335  Оформила страницу в социальной сети, определил...\n",
       "1   1033016  До начала курса я немного был знаком с основам...\n",
       "2    995121  Очень много новой информации. Научились состав...\n",
       "3    674661  Очень полезный курс, научилась грамотно вести ...\n",
       "4    969910  научилась очень многому благодаря компетенции ...\n",
       "..      ...                                                ...\n",
       "26  1034455  Курсы по этой программе весьма интересны и име...\n",
       "27   290243  Узнал много инструментов для разработки прилож...\n",
       "28  1002173  Да очень, много познавательного интересного уз...\n",
       "29   984791  Есть полезная информация, которую стоит держат...\n",
       "30  1002311          структуру разработки мобильных приложений\n",
       "\n",
       "[1510 rows x 2 columns]"
      ]
     },
     "execution_count": 66,
     "metadata": {},
     "output_type": "execute_result"
    }
   ],
   "source": [
    "add_data"
   ]
  },
  {
   "cell_type": "markdown",
   "metadata": {},
   "source": [
    "### Объединим с данными диагностик"
   ]
  },
  {
   "cell_type": "code",
   "execution_count": 85,
   "metadata": {},
   "outputs": [
    {
     "data": {
      "text/plain": [
       "(20613, 68)"
      ]
     },
     "execution_count": 85,
     "metadata": {},
     "output_type": "execute_result"
    }
   ],
   "source": [
    "# для воспроизведения - изменить путь!\n",
    "path_diag = r\"\\Дополнительные данные\"\n",
    "\n",
    "data_diag = pd.read_excel(os.path.join(path_diag, r'Диагностика_ПЦС_доп..xlsx'),header=1)\n",
    "data_diag.shape"
   ]
  },
  {
   "cell_type": "code",
   "execution_count": 86,
   "metadata": {},
   "outputs": [],
   "source": [
    "data_diag.rename(columns={\"Leader ID\": \"untiID\"}, inplace=True)"
   ]
  },
  {
   "cell_type": "code",
   "execution_count": 87,
   "metadata": {},
   "outputs": [
    {
     "data": {
      "text/plain": [
       "Index(['untiID', 'Прогресс прохождения обязательных активностей',\n",
       "       'Количество пройденных обязательных активностей',\n",
       "       'Количество пройденных дополнительных активностей', 'автоматизация',\n",
       "       'единая идеология компании', 'поощрение инаковости',\n",
       "       'исследование неопределённости', 'поощрение работы над ошибками',\n",
       "       'нестандартные решения', 'гибкий график, удалённая работа',\n",
       "       'мало гибких правил', 'открытая система управления знаниями',\n",
       "       'кооперация', 'откровенность', 'демократия',\n",
       "       'краткосрочное планирование', 'эффективность', 'инновации',\n",
       "       'вовлечённость', 'динамичные команды', 'обучение желающих',\n",
       "       'власть экспертизы', 'коллективизм', 'актер', 'адепт', 'аналитик',\n",
       "       'боец', 'визионер', 'вождь', 'интуит', 'конструктор', 'контролер',\n",
       "       'эксперт', 'организатор', 'исполнитель', 'преследователь',\n",
       "       'экспериментатор', 'связной', 'творец', 'хакер', 'хозяин', 'эмпат',\n",
       "       'эстет', 'осмысленность деятельности, собственная значимость',\n",
       "       'преодоление сложностей, препятствий',\n",
       "       'социальный элемент, дружба, влияние, конкуренция',\n",
       "       'тайна, сюрприз, непредсказуемость',\n",
       "       'избегание негатива, размеренность, безопасность',\n",
       "       'владение, обладание, накопление',\n",
       "       'самосовершенствование, работа над собой, труд',\n",
       "       'достижение, стремление к лидерству',\n",
       "       'Общее количество баллов, набранных за всю игру',\n",
       "       'Количество выборов, за которые респондент получил один балл',\n",
       "       'Количество выборов, за которые респондент получал по 3 балла',\n",
       "       'Количество кликов (вне зависимости от их правильности) для каждого правила',\n",
       "       'Суммарное количество кликов (вне зависимости от правильности) за всю игру (1 минута)',\n",
       "       'Количество кликов внутри каждого правила, которые принесли какие-то баллы',\n",
       "       'Количество кликов, которые принесли какие-либо баллы за всю игру (1 минута)',\n",
       "       'Количество кликов на цифры за всю игру',\n",
       "       'Количество кликов на иероглифы за всю игру',\n",
       "       'Количество кликов на буквы за всю игру',\n",
       "       'Количество кликов на любой символ на голубом фоне',\n",
       "       'Количество кликов на любой символ на желтом фоне',\n",
       "       'Количество кликов на любой символ на зеленом фоне',\n",
       "       'Время каждого клика (в секундах от начала игры)',\n",
       "       'Среднее арифметическое времени между сменой правила и кликом, приносящим 1 или 3 балла.',\n",
       "       'Среднее арифметическое времени между сменой правила и первым кликом внутри этого правила (вне зависимости от правильности клика)'],\n",
       "      dtype='object')"
      ]
     },
     "execution_count": 87,
     "metadata": {},
     "output_type": "execute_result"
    }
   ],
   "source": [
    "data_diag.columns"
   ]
  },
  {
   "cell_type": "code",
   "execution_count": 93,
   "metadata": {},
   "outputs": [],
   "source": [
    "data = pd.merge(add_data ,data_diag, on=['untiID'])"
   ]
  },
  {
   "cell_type": "markdown",
   "metadata": {},
   "source": [
    "### Заполнение пропусков в данных диагностики"
   ]
  },
  {
   "cell_type": "code",
   "execution_count": 106,
   "metadata": {},
   "outputs": [
    {
     "data": {
      "text/plain": [
       "untiID                                                                                                                               object\n",
       "Чему вы научились в рамках курса?                                                                                                    object\n",
       "Прогресс прохождения обязательных активностей                                                                                       float64\n",
       "Количество пройденных обязательных активностей                                                                                      float64\n",
       "Количество пройденных дополнительных активностей                                                                                    float64\n",
       "                                                                                                                                     ...   \n",
       "Количество кликов на любой символ на желтом фоне                                                                                    float64\n",
       "Количество кликов на любой символ на зеленом фоне                                                                                   float64\n",
       "Время каждого клика (в секундах от начала игры)                                                                                      object\n",
       "Среднее арифметическое времени между сменой правила и кликом, приносящим 1 или 3 балла.                                             float64\n",
       "Среднее арифметическое времени между сменой правила и первым кликом внутри этого правила (вне зависимости от правильности клика)    float64\n",
       "Length: 69, dtype: object"
      ]
     },
     "execution_count": 106,
     "metadata": {},
     "output_type": "execute_result"
    }
   ],
   "source": [
    "data.dtypes"
   ]
  },
  {
   "cell_type": "code",
   "execution_count": 117,
   "metadata": {},
   "outputs": [],
   "source": [
    "data.fillna(0, inplace=True)"
   ]
  },
  {
   "cell_type": "code",
   "execution_count": 118,
   "metadata": {},
   "outputs": [
    {
     "data": {
      "text/plain": [
       "0"
      ]
     },
     "execution_count": 118,
     "metadata": {},
     "output_type": "execute_result"
    }
   ],
   "source": [
    "sum(data.isna().sum())"
   ]
  },
  {
   "cell_type": "code",
   "execution_count": 124,
   "metadata": {},
   "outputs": [],
   "source": [
    "def aggregate(data):\n",
    "    sum_df = data.groupby(['untiID'], as_index=False).agg(np.sum)\n",
    "    sum_df.columns = [str(col) + '_sum' if col != 'untiID' else 'untiID' for col in sum_df.columns]\n",
    "    \n",
    "    mean_df = data.groupby(['untiID'], as_index=False).agg(np.mean)\n",
    "    mean_df.columns = [str(col) + '_mean' if col != 'untiID' else 'untiID' for col in mean_df.columns]\n",
    "    \n",
    "    median_df = data.groupby(['untiID'], as_index=False).agg(np.median)\n",
    "    median_df.columns = [str(col) + '_median' if col != 'untiID' else 'untiID' for col in median_df.columns]\n",
    "    \n",
    "    max_df = data.groupby(['untiID'], as_index=False).agg(np.max)\n",
    "    max_df.columns = [str(col) + '_max' if col != 'untiID' else 'untiID' for col in max_df.columns]\n",
    "    \n",
    "    min_df = data.groupby(['untiID'], as_index=False).agg(np.min)\n",
    "    min_df.columns = [str(col) + '_min' if col != 'untiID' else 'untiID' for col in min_df.columns]\n",
    "    \n",
    "    data_frames = [sum_df, mean_df, median_df, max_df, min_df]\n",
    "#     df_merged = pd.merge(sum_df, mean_df, on=['Unti ID'])\n",
    "    df_merged = reduce(lambda  left,right: pd.merge(left,right,on=['untiID'], how='right'), data_frames)\n",
    "    return df_merged"
   ]
  },
  {
   "cell_type": "code",
   "execution_count": 125,
   "metadata": {},
   "outputs": [],
   "source": [
    "data_agg = aggregate(data.drop('Чему вы научились в рамках курса?',axis=1))"
   ]
  },
  {
   "cell_type": "code",
   "execution_count": 126,
   "metadata": {},
   "outputs": [
    {
     "data": {
      "text/plain": [
       "(1245, 327)"
      ]
     },
     "execution_count": 126,
     "metadata": {},
     "output_type": "execute_result"
    }
   ],
   "source": [
    "data_agg.shape"
   ]
  },
  {
   "cell_type": "code",
   "execution_count": 137,
   "metadata": {},
   "outputs": [],
   "source": [
    "# Сохраним агрегированные диагностические доп.данные\n",
    "data_agg.to_csv('additional_data_agg.csv',index=False)"
   ]
  },
  {
   "cell_type": "code",
   "execution_count": 159,
   "metadata": {},
   "outputs": [],
   "source": [
    "# Сохраним агрегированные текстовые доп.данные\n",
    "data[['untiID', 'Чему вы научились в рамках курса?']].to_csv('additional_data_text.csv',index=False)"
   ]
  },
  {
   "cell_type": "markdown",
   "metadata": {},
   "source": [
    "### Объединим основной трейн (диагностики db0-7) и доп.данные"
   ]
  },
  {
   "cell_type": "code",
   "execution_count": 140,
   "metadata": {},
   "outputs": [],
   "source": [
    "diag_train_agg = pd.read_csv('diag_train_agg.csv')"
   ]
  },
  {
   "cell_type": "code",
   "execution_count": 141,
   "metadata": {},
   "outputs": [
    {
     "data": {
      "text/plain": [
       "(206, 681)"
      ]
     },
     "execution_count": 141,
     "metadata": {},
     "output_type": "execute_result"
    }
   ],
   "source": [
    "diag_train_agg.shape"
   ]
  },
  {
   "cell_type": "code",
   "execution_count": 149,
   "metadata": {},
   "outputs": [
    {
     "name": "stdout",
     "output_type": "stream",
     "text": [
      "Кол-во совпадающих ID: 0\n"
     ]
    }
   ],
   "source": [
    "# check if there are the same ids\n",
    "print(\"Кол-во совпадающих ID:\" , data_agg.shape[0] - len(set(data_agg.untiID) - set(diag_train_agg.untiID)))"
   ]
  },
  {
   "cell_type": "code",
   "execution_count": 164,
   "metadata": {},
   "outputs": [
    {
     "data": {
      "text/plain": [
       "set()"
      ]
     },
     "execution_count": 164,
     "metadata": {},
     "output_type": "execute_result"
    }
   ],
   "source": [
    "# Определим совпадающие колонки\n",
    "# Все колонки доп.данных есть в основном трейне - объединим датасеты по ним.\n",
    "set(data_agg.columns) - set(diag_train_agg.columns)"
   ]
  },
  {
   "cell_type": "code",
   "execution_count": 172,
   "metadata": {},
   "outputs": [
    {
     "data": {
      "text/plain": [
       "(1451, 327)"
      ]
     },
     "execution_count": 172,
     "metadata": {},
     "output_type": "execute_result"
    }
   ],
   "source": [
    "diag_large_train = pd.concat([data_agg, diag_train_agg[data_agg.columns.tolist()]])\n",
    "diag_large_train.shape"
   ]
  },
  {
   "cell_type": "code",
   "execution_count": 171,
   "metadata": {},
   "outputs": [
    {
     "data": {
      "text/plain": [
       " 0.0    1123\n",
       " 1.0     240\n",
       " 2.0      62\n",
       "-1.0      19\n",
       " 3.0       5\n",
       "-2.0       2\n",
       "Name: творец_mean, dtype: int64"
      ]
     },
     "execution_count": 171,
     "metadata": {},
     "output_type": "execute_result"
    }
   ],
   "source": [
    "# sanity check\n",
    "diag_large_train['творец_mean'].value_counts()"
   ]
  },
  {
   "cell_type": "code",
   "execution_count": 174,
   "metadata": {},
   "outputs": [],
   "source": [
    "# сохраним трейн датасет с результатами диагностик\n",
    "diag_large_train.to_csv('diag_large_train.csv',index=False)"
   ]
  }
 ],
 "metadata": {
  "kernelspec": {
   "display_name": "Python 3",
   "language": "python",
   "name": "python3"
  },
  "language_info": {
   "codemirror_mode": {
    "name": "ipython",
    "version": 3
   },
   "file_extension": ".py",
   "mimetype": "text/x-python",
   "name": "python",
   "nbconvert_exporter": "python",
   "pygments_lexer": "ipython3",
   "version": "3.7.9"
  }
 },
 "nbformat": 4,
 "nbformat_minor": 4
}
