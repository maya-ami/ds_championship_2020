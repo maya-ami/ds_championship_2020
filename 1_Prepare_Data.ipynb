{
 "cells": [
  {
   "cell_type": "markdown",
   "metadata": {},
   "source": [
    "### Общий план:\n",
    "- __Заполнить пропуски в данных диагностики__\n",
    "- __Агрегировать результаты диагностики по каждому юзеру__\n",
    "- Выделить фичи из текста\n",
    "- Агрегировать фичи по юзеру\n",
    "- Объединить датасеты\n",
    "- Построить матрицу корреляций по полученному датасету\n",
    "- Наиболее удачные, яркие корреляции рассмотреть подробнее\n",
    "- Построить бейзлайн, лр/бустинг, для прогнозирования результата диагностики по фичам текста"
   ]
  },
  {
   "cell_type": "code",
   "execution_count": 1,
   "metadata": {},
   "outputs": [],
   "source": [
    "import numpy as np\n",
    "import pandas as pd\n",
    "import seaborn as sns\n",
    "import matplotlib.pyplot as plt\n",
    "%matplotlib inline"
   ]
  },
  {
   "cell_type": "markdown",
   "metadata": {},
   "source": [
    "## Данные диагностик"
   ]
  },
  {
   "cell_type": "code",
   "execution_count": 2,
   "metadata": {},
   "outputs": [],
   "source": [
    "train_df = []\n",
    "test_df = []\n",
    "\n",
    "for i in range(1,8):\n",
    "    df = pd.read_excel('database0{}.xlsx'.format(i), header=1)\n",
    "    train_df.append(df)\n",
    "\n",
    "for i in range(8,10):\n",
    "    df = pd.read_excel('database0{}.xlsx'.format(i), header=1)\n",
    "    test_df.append(df)\n",
    "\n",
    "df = pd.read_excel('database10.xlsx', header=1)    \n",
    "test_df.append(df)    \n",
    "    \n",
    "train = pd.concat(train_df)\n",
    "test = pd.concat(test_df)"
   ]
  },
  {
   "cell_type": "code",
   "execution_count": 3,
   "metadata": {},
   "outputs": [
    {
     "data": {
      "text/plain": [
       "((2517, 137), (1154, 137))"
      ]
     },
     "execution_count": 3,
     "metadata": {},
     "output_type": "execute_result"
    }
   ],
   "source": [
    "train.shape, test.shape"
   ]
  },
  {
   "cell_type": "code",
   "execution_count": 4,
   "metadata": {},
   "outputs": [
    {
     "data": {
      "text/plain": [
       "Index(['Unti ID', 'Прогресс прохождения обязательных активностей',\n",
       "       'Количество пройденных обязательных активностей',\n",
       "       'Количество пройденных дополнительных активностей',\n",
       "       'Прогресс прохождения обязательных активностей.1',\n",
       "       'Количество пройденных обязательных активностей.1',\n",
       "       'Количество пройденных дополнительных активностей.1',\n",
       "       'толерантность, выходные интенсивов 06.2020',\n",
       "       'Большие данные (выходные)', 'Нейротехнологии, VR и AR (выходные)',\n",
       "       ...\n",
       "       'Количество кликов, которые принесли какие-либо баллы за всю игру (1 минута)',\n",
       "       'Количество кликов на цифры за всю игру',\n",
       "       'Количество кликов на иероглифы за всю игру',\n",
       "       'Количество кликов на буквы за всю игру',\n",
       "       'Количество кликов на любой символ на голубом фоне',\n",
       "       'Количество кликов на любой символ на желтом фоне',\n",
       "       'Количество кликов на любой символ на зеленом фоне',\n",
       "       'Время каждого клика (в секундах от начала игры)',\n",
       "       'Среднее арифметическое времени между сменой правила и кликом, приносящим 1 или 3 балла.',\n",
       "       'Среднее арифметическое времени между сменой правила и первым кликом внутри этого правила (вне зависимости от правильности клика)'],\n",
       "      dtype='object', length=137)"
      ]
     },
     "execution_count": 4,
     "metadata": {},
     "output_type": "execute_result"
    }
   ],
   "source": [
    "train.columns"
   ]
  },
  {
   "cell_type": "code",
   "execution_count": 5,
   "metadata": {},
   "outputs": [
    {
     "data": {
      "text/plain": [
       "(2460, 1137)"
      ]
     },
     "execution_count": 5,
     "metadata": {},
     "output_type": "execute_result"
    }
   ],
   "source": [
    "len(train['Unti ID'].unique()), len(test['Unti ID'].unique())"
   ]
  },
  {
   "cell_type": "code",
   "execution_count": 6,
   "metadata": {},
   "outputs": [
    {
     "data": {
      "text/plain": [
       "1122"
      ]
     },
     "execution_count": 6,
     "metadata": {},
     "output_type": "execute_result"
    }
   ],
   "source": [
    "len(set(test['Unti ID']) - set(train['Unti ID']))"
   ]
  },
  {
   "cell_type": "markdown",
   "metadata": {},
   "source": [
    "## Текст рефлексий"
   ]
  },
  {
   "cell_type": "code",
   "execution_count": 7,
   "metadata": {},
   "outputs": [],
   "source": [
    "texts = pd.read_excel('Рефлексии_участников_задача_по_диагностике.xlsx')"
   ]
  },
  {
   "cell_type": "code",
   "execution_count": 8,
   "metadata": {},
   "outputs": [
    {
     "data": {
      "text/plain": [
       "(26546, 15)"
      ]
     },
     "execution_count": 8,
     "metadata": {},
     "output_type": "execute_result"
    }
   ],
   "source": [
    "texts.shape"
   ]
  },
  {
   "cell_type": "code",
   "execution_count": 9,
   "metadata": {},
   "outputs": [
    {
     "data": {
      "text/plain": [
       "450"
      ]
     },
     "execution_count": 9,
     "metadata": {},
     "output_type": "execute_result"
    }
   ],
   "source": [
    "len(texts['untiID'].unique())"
   ]
  },
  {
   "cell_type": "code",
   "execution_count": 10,
   "metadata": {},
   "outputs": [
    {
     "data": {
      "text/plain": [
       "eventUUID                 0\n",
       "eventTitle            14038\n",
       "a_title                   0\n",
       "startDate                 0\n",
       "startTime                 0\n",
       "endDate                   0\n",
       "endTime                   0\n",
       "untiID                    0\n",
       "feedbackQuestionID        0\n",
       "question                  0\n",
       "value                  8174\n",
       "data                  26063\n",
       "Unnamed: 12           26504\n",
       "Unnamed: 13           26543\n",
       "Unnamed: 14           26544\n",
       "dtype: int64"
      ]
     },
     "execution_count": 10,
     "metadata": {},
     "output_type": "execute_result"
    }
   ],
   "source": [
    "texts.isna().sum()"
   ]
  },
  {
   "cell_type": "code",
   "execution_count": 11,
   "metadata": {},
   "outputs": [
    {
     "data": {
      "text/plain": [
       "((2517, 137), (1154, 137))"
      ]
     },
     "execution_count": 11,
     "metadata": {},
     "output_type": "execute_result"
    }
   ],
   "source": [
    "train.shape, test.shape"
   ]
  },
  {
   "cell_type": "code",
   "execution_count": 12,
   "metadata": {},
   "outputs": [
    {
     "data": {
      "text/plain": [
       "2460"
      ]
     },
     "execution_count": 12,
     "metadata": {},
     "output_type": "execute_result"
    }
   ],
   "source": [
    "len(train['Unti ID'].unique())"
   ]
  },
  {
   "cell_type": "code",
   "execution_count": 13,
   "metadata": {},
   "outputs": [
    {
     "name": "stdout",
     "output_type": "stream",
     "text": [
      "Кол-во уникальных ID в трейне, для к-х есть текстовые данные: 206\n",
      "Кол-во уникальных ID в тесте, для к-х есть текстовые данные: 127\n"
     ]
    }
   ],
   "source": [
    "print(\"Кол-во уникальных ID в трейне, для к-х есть текстовые данные: {}\".format(len(train['Unti ID'].unique()) - len(set(train['Unti ID'].unique()) - set(texts['untiID'].unique()))))\n",
    "print(\"Кол-во уникальных ID в тесте, для к-х есть текстовые данные: {}\".format(len(test['Unti ID'].unique()) - len(set(test['Unti ID'].unique()) - set(texts['untiID'].unique()))))\n",
    "\n"
   ]
  },
  {
   "cell_type": "code",
   "execution_count": 14,
   "metadata": {},
   "outputs": [
    {
     "data": {
      "text/plain": [
       "2254"
      ]
     },
     "execution_count": 14,
     "metadata": {},
     "output_type": "execute_result"
    }
   ],
   "source": [
    "# ID-шники для которых нет текстов рефлексий\n",
    "len(set(train['Unti ID'].unique()) - set(texts['untiID'].unique()))"
   ]
  },
  {
   "cell_type": "code",
   "execution_count": 15,
   "metadata": {},
   "outputs": [
    {
     "data": {
      "text/plain": [
       "244"
      ]
     },
     "execution_count": 15,
     "metadata": {},
     "output_type": "execute_result"
    }
   ],
   "source": [
    "# ID-шники для которых нет результатов диагностик\n",
    "len(set(texts['untiID'].unique()) - set(train['Unti ID'].unique()))\n",
    "# 450 unique text id - 244 = 206"
   ]
  },
  {
   "cell_type": "code",
   "execution_count": 16,
   "metadata": {},
   "outputs": [],
   "source": [
    "# готовим трейн - берем id только тех у кого есть текстовые данные\n",
    "\n",
    "train_ids = set(train['Unti ID']) - (set(train['Unti ID'].unique()) - set(texts['untiID'].unique()))\n",
    "test_ids = set(test['Unti ID']) - (set(test['Unti ID'].unique()) - set(texts['untiID'].unique()))"
   ]
  },
  {
   "cell_type": "code",
   "execution_count": 17,
   "metadata": {},
   "outputs": [
    {
     "data": {
      "text/plain": [
       "(225, 137)"
      ]
     },
     "execution_count": 17,
     "metadata": {},
     "output_type": "execute_result"
    }
   ],
   "source": [
    "df_train = train[train['Unti ID'].isin(train_ids)]\n",
    "df_train.shape"
   ]
  },
  {
   "cell_type": "code",
   "execution_count": 18,
   "metadata": {},
   "outputs": [
    {
     "data": {
      "text/plain": [
       "(134, 137)"
      ]
     },
     "execution_count": 18,
     "metadata": {},
     "output_type": "execute_result"
    }
   ],
   "source": [
    "df_test = test[test['Unti ID'].isin(test_ids)]\n",
    "df_test.shape"
   ]
  },
  {
   "cell_type": "markdown",
   "metadata": {},
   "source": [
    "### Заполнить пропуски в данных диагностики\n",
    "Подход 1: заполнить нулем"
   ]
  },
  {
   "cell_type": "code",
   "execution_count": 20,
   "metadata": {},
   "outputs": [
    {
     "data": {
      "text/plain": [
       "206"
      ]
     },
     "execution_count": 20,
     "metadata": {},
     "output_type": "execute_result"
    }
   ],
   "source": [
    "len(df_train['Unti ID'].unique())"
   ]
  },
  {
   "cell_type": "code",
   "execution_count": 21,
   "metadata": {},
   "outputs": [
    {
     "data": {
      "text/html": [
       "<div>\n",
       "<style scoped>\n",
       "    .dataframe tbody tr th:only-of-type {\n",
       "        vertical-align: middle;\n",
       "    }\n",
       "\n",
       "    .dataframe tbody tr th {\n",
       "        vertical-align: top;\n",
       "    }\n",
       "\n",
       "    .dataframe thead th {\n",
       "        text-align: right;\n",
       "    }\n",
       "</style>\n",
       "<table border=\"1\" class=\"dataframe\">\n",
       "  <thead>\n",
       "    <tr style=\"text-align: right;\">\n",
       "      <th></th>\n",
       "      <th>Unti ID</th>\n",
       "      <th>Прогресс прохождения обязательных активностей</th>\n",
       "      <th>Количество пройденных обязательных активностей</th>\n",
       "      <th>Количество пройденных дополнительных активностей</th>\n",
       "      <th>Прогресс прохождения обязательных активностей.1</th>\n",
       "      <th>Количество пройденных обязательных активностей.1</th>\n",
       "      <th>Количество пройденных дополнительных активностей.1</th>\n",
       "      <th>толерантность, выходные интенсивов 06.2020</th>\n",
       "      <th>Большие данные (выходные)</th>\n",
       "      <th>Нейротехнологии, VR и AR (выходные)</th>\n",
       "      <th>...</th>\n",
       "      <th>Количество кликов, которые принесли какие-либо баллы за всю игру (1 минута)</th>\n",
       "      <th>Количество кликов на цифры за всю игру</th>\n",
       "      <th>Количество кликов на иероглифы за всю игру</th>\n",
       "      <th>Количество кликов на буквы за всю игру</th>\n",
       "      <th>Количество кликов на любой символ на голубом фоне</th>\n",
       "      <th>Количество кликов на любой символ на желтом фоне</th>\n",
       "      <th>Количество кликов на любой символ на зеленом фоне</th>\n",
       "      <th>Время каждого клика (в секундах от начала игры)</th>\n",
       "      <th>Среднее арифметическое времени между сменой правила и кликом, приносящим 1 или 3 балла.</th>\n",
       "      <th>Среднее арифметическое времени между сменой правила и первым кликом внутри этого правила (вне зависимости от правильности клика)</th>\n",
       "    </tr>\n",
       "  </thead>\n",
       "  <tbody>\n",
       "    <tr>\n",
       "      <th>3</th>\n",
       "      <td>103</td>\n",
       "      <td>20.0</td>\n",
       "      <td>1.0</td>\n",
       "      <td>2.0</td>\n",
       "      <td>0.0</td>\n",
       "      <td>0.0</td>\n",
       "      <td>0.0</td>\n",
       "      <td>NaN</td>\n",
       "      <td>NaN</td>\n",
       "      <td>NaN</td>\n",
       "      <td>...</td>\n",
       "      <td>NaN</td>\n",
       "      <td>NaN</td>\n",
       "      <td>NaN</td>\n",
       "      <td>NaN</td>\n",
       "      <td>NaN</td>\n",
       "      <td>NaN</td>\n",
       "      <td>NaN</td>\n",
       "      <td>NaN</td>\n",
       "      <td>NaN</td>\n",
       "      <td>NaN</td>\n",
       "    </tr>\n",
       "    <tr>\n",
       "      <th>1</th>\n",
       "      <td>103</td>\n",
       "      <td>17.0</td>\n",
       "      <td>1.0</td>\n",
       "      <td>2.0</td>\n",
       "      <td>0.0</td>\n",
       "      <td>0.0</td>\n",
       "      <td>0.0</td>\n",
       "      <td>NaN</td>\n",
       "      <td>NaN</td>\n",
       "      <td>NaN</td>\n",
       "      <td>...</td>\n",
       "      <td>NaN</td>\n",
       "      <td>NaN</td>\n",
       "      <td>NaN</td>\n",
       "      <td>NaN</td>\n",
       "      <td>NaN</td>\n",
       "      <td>NaN</td>\n",
       "      <td>NaN</td>\n",
       "      <td>NaN</td>\n",
       "      <td>NaN</td>\n",
       "      <td>NaN</td>\n",
       "    </tr>\n",
       "    <tr>\n",
       "      <th>1</th>\n",
       "      <td>103</td>\n",
       "      <td>17.0</td>\n",
       "      <td>1.0</td>\n",
       "      <td>2.0</td>\n",
       "      <td>0.0</td>\n",
       "      <td>0.0</td>\n",
       "      <td>0.0</td>\n",
       "      <td>NaN</td>\n",
       "      <td>NaN</td>\n",
       "      <td>NaN</td>\n",
       "      <td>...</td>\n",
       "      <td>NaN</td>\n",
       "      <td>NaN</td>\n",
       "      <td>NaN</td>\n",
       "      <td>NaN</td>\n",
       "      <td>NaN</td>\n",
       "      <td>NaN</td>\n",
       "      <td>NaN</td>\n",
       "      <td>NaN</td>\n",
       "      <td>NaN</td>\n",
       "      <td>NaN</td>\n",
       "    </tr>\n",
       "    <tr>\n",
       "      <th>0</th>\n",
       "      <td>103</td>\n",
       "      <td>20.0</td>\n",
       "      <td>1.0</td>\n",
       "      <td>2.0</td>\n",
       "      <td>0.0</td>\n",
       "      <td>0.0</td>\n",
       "      <td>0.0</td>\n",
       "      <td>NaN</td>\n",
       "      <td>NaN</td>\n",
       "      <td>NaN</td>\n",
       "      <td>...</td>\n",
       "      <td>NaN</td>\n",
       "      <td>NaN</td>\n",
       "      <td>NaN</td>\n",
       "      <td>NaN</td>\n",
       "      <td>NaN</td>\n",
       "      <td>NaN</td>\n",
       "      <td>NaN</td>\n",
       "      <td>NaN</td>\n",
       "      <td>NaN</td>\n",
       "      <td>NaN</td>\n",
       "    </tr>\n",
       "    <tr>\n",
       "      <th>0</th>\n",
       "      <td>103</td>\n",
       "      <td>20.0</td>\n",
       "      <td>1.0</td>\n",
       "      <td>2.0</td>\n",
       "      <td>0.0</td>\n",
       "      <td>0.0</td>\n",
       "      <td>0.0</td>\n",
       "      <td>NaN</td>\n",
       "      <td>NaN</td>\n",
       "      <td>NaN</td>\n",
       "      <td>...</td>\n",
       "      <td>NaN</td>\n",
       "      <td>NaN</td>\n",
       "      <td>NaN</td>\n",
       "      <td>NaN</td>\n",
       "      <td>NaN</td>\n",
       "      <td>NaN</td>\n",
       "      <td>NaN</td>\n",
       "      <td>NaN</td>\n",
       "      <td>NaN</td>\n",
       "      <td>NaN</td>\n",
       "    </tr>\n",
       "    <tr>\n",
       "      <th>0</th>\n",
       "      <td>103</td>\n",
       "      <td>17.0</td>\n",
       "      <td>1.0</td>\n",
       "      <td>2.0</td>\n",
       "      <td>0.0</td>\n",
       "      <td>0.0</td>\n",
       "      <td>0.0</td>\n",
       "      <td>NaN</td>\n",
       "      <td>NaN</td>\n",
       "      <td>NaN</td>\n",
       "      <td>...</td>\n",
       "      <td>NaN</td>\n",
       "      <td>NaN</td>\n",
       "      <td>NaN</td>\n",
       "      <td>NaN</td>\n",
       "      <td>NaN</td>\n",
       "      <td>NaN</td>\n",
       "      <td>NaN</td>\n",
       "      <td>NaN</td>\n",
       "      <td>NaN</td>\n",
       "      <td>NaN</td>\n",
       "    </tr>\n",
       "    <tr>\n",
       "      <th>0</th>\n",
       "      <td>103</td>\n",
       "      <td>20.0</td>\n",
       "      <td>1.0</td>\n",
       "      <td>2.0</td>\n",
       "      <td>0.0</td>\n",
       "      <td>0.0</td>\n",
       "      <td>0.0</td>\n",
       "      <td>NaN</td>\n",
       "      <td>NaN</td>\n",
       "      <td>NaN</td>\n",
       "      <td>...</td>\n",
       "      <td>NaN</td>\n",
       "      <td>NaN</td>\n",
       "      <td>NaN</td>\n",
       "      <td>NaN</td>\n",
       "      <td>NaN</td>\n",
       "      <td>NaN</td>\n",
       "      <td>NaN</td>\n",
       "      <td>NaN</td>\n",
       "      <td>NaN</td>\n",
       "      <td>NaN</td>\n",
       "    </tr>\n",
       "  </tbody>\n",
       "</table>\n",
       "<p>7 rows × 137 columns</p>\n",
       "</div>"
      ],
      "text/plain": [
       "   Unti ID  Прогресс прохождения обязательных активностей  \\\n",
       "3      103                                           20.0   \n",
       "1      103                                           17.0   \n",
       "1      103                                           17.0   \n",
       "0      103                                           20.0   \n",
       "0      103                                           20.0   \n",
       "0      103                                           17.0   \n",
       "0      103                                           20.0   \n",
       "\n",
       "   Количество пройденных обязательных активностей  \\\n",
       "3                                             1.0   \n",
       "1                                             1.0   \n",
       "1                                             1.0   \n",
       "0                                             1.0   \n",
       "0                                             1.0   \n",
       "0                                             1.0   \n",
       "0                                             1.0   \n",
       "\n",
       "   Количество пройденных дополнительных активностей  \\\n",
       "3                                               2.0   \n",
       "1                                               2.0   \n",
       "1                                               2.0   \n",
       "0                                               2.0   \n",
       "0                                               2.0   \n",
       "0                                               2.0   \n",
       "0                                               2.0   \n",
       "\n",
       "   Прогресс прохождения обязательных активностей.1  \\\n",
       "3                                              0.0   \n",
       "1                                              0.0   \n",
       "1                                              0.0   \n",
       "0                                              0.0   \n",
       "0                                              0.0   \n",
       "0                                              0.0   \n",
       "0                                              0.0   \n",
       "\n",
       "   Количество пройденных обязательных активностей.1  \\\n",
       "3                                               0.0   \n",
       "1                                               0.0   \n",
       "1                                               0.0   \n",
       "0                                               0.0   \n",
       "0                                               0.0   \n",
       "0                                               0.0   \n",
       "0                                               0.0   \n",
       "\n",
       "   Количество пройденных дополнительных активностей.1  \\\n",
       "3                                                0.0    \n",
       "1                                                0.0    \n",
       "1                                                0.0    \n",
       "0                                                0.0    \n",
       "0                                                0.0    \n",
       "0                                                0.0    \n",
       "0                                                0.0    \n",
       "\n",
       "   толерантность, выходные интенсивов 06.2020  Большие данные (выходные)  \\\n",
       "3                                         NaN                        NaN   \n",
       "1                                         NaN                        NaN   \n",
       "1                                         NaN                        NaN   \n",
       "0                                         NaN                        NaN   \n",
       "0                                         NaN                        NaN   \n",
       "0                                         NaN                        NaN   \n",
       "0                                         NaN                        NaN   \n",
       "\n",
       "   Нейротехнологии, VR и AR (выходные)  ...  \\\n",
       "3                                  NaN  ...   \n",
       "1                                  NaN  ...   \n",
       "1                                  NaN  ...   \n",
       "0                                  NaN  ...   \n",
       "0                                  NaN  ...   \n",
       "0                                  NaN  ...   \n",
       "0                                  NaN  ...   \n",
       "\n",
       "   Количество кликов, которые принесли какие-либо баллы за всю игру (1 минута)  \\\n",
       "3                                                NaN                             \n",
       "1                                                NaN                             \n",
       "1                                                NaN                             \n",
       "0                                                NaN                             \n",
       "0                                                NaN                             \n",
       "0                                                NaN                             \n",
       "0                                                NaN                             \n",
       "\n",
       "   Количество кликов на цифры за всю игру  \\\n",
       "3                                     NaN   \n",
       "1                                     NaN   \n",
       "1                                     NaN   \n",
       "0                                     NaN   \n",
       "0                                     NaN   \n",
       "0                                     NaN   \n",
       "0                                     NaN   \n",
       "\n",
       "   Количество кликов на иероглифы за всю игру  \\\n",
       "3                                         NaN   \n",
       "1                                         NaN   \n",
       "1                                         NaN   \n",
       "0                                         NaN   \n",
       "0                                         NaN   \n",
       "0                                         NaN   \n",
       "0                                         NaN   \n",
       "\n",
       "   Количество кликов на буквы за всю игру  \\\n",
       "3                                     NaN   \n",
       "1                                     NaN   \n",
       "1                                     NaN   \n",
       "0                                     NaN   \n",
       "0                                     NaN   \n",
       "0                                     NaN   \n",
       "0                                     NaN   \n",
       "\n",
       "   Количество кликов на любой символ на голубом фоне  \\\n",
       "3                                                NaN   \n",
       "1                                                NaN   \n",
       "1                                                NaN   \n",
       "0                                                NaN   \n",
       "0                                                NaN   \n",
       "0                                                NaN   \n",
       "0                                                NaN   \n",
       "\n",
       "   Количество кликов на любой символ на желтом фоне  \\\n",
       "3                                               NaN   \n",
       "1                                               NaN   \n",
       "1                                               NaN   \n",
       "0                                               NaN   \n",
       "0                                               NaN   \n",
       "0                                               NaN   \n",
       "0                                               NaN   \n",
       "\n",
       "   Количество кликов на любой символ на зеленом фоне  \\\n",
       "3                                                NaN   \n",
       "1                                                NaN   \n",
       "1                                                NaN   \n",
       "0                                                NaN   \n",
       "0                                                NaN   \n",
       "0                                                NaN   \n",
       "0                                                NaN   \n",
       "\n",
       "   Время каждого клика (в секундах от начала игры)  \\\n",
       "3                                              NaN   \n",
       "1                                              NaN   \n",
       "1                                              NaN   \n",
       "0                                              NaN   \n",
       "0                                              NaN   \n",
       "0                                              NaN   \n",
       "0                                              NaN   \n",
       "\n",
       "   Среднее арифметическое времени между сменой правила и кликом, приносящим 1 или 3 балла.  \\\n",
       "3                                                NaN                                         \n",
       "1                                                NaN                                         \n",
       "1                                                NaN                                         \n",
       "0                                                NaN                                         \n",
       "0                                                NaN                                         \n",
       "0                                                NaN                                         \n",
       "0                                                NaN                                         \n",
       "\n",
       "   Среднее арифметическое времени между сменой правила и первым кликом внутри этого правила (вне зависимости от правильности клика)  \n",
       "3                                                NaN                                                                                 \n",
       "1                                                NaN                                                                                 \n",
       "1                                                NaN                                                                                 \n",
       "0                                                NaN                                                                                 \n",
       "0                                                NaN                                                                                 \n",
       "0                                                NaN                                                                                 \n",
       "0                                                NaN                                                                                 \n",
       "\n",
       "[7 rows x 137 columns]"
      ]
     },
     "execution_count": 21,
     "metadata": {},
     "output_type": "execute_result"
    }
   ],
   "source": [
    "df_train[df_train['Unti ID']==103]"
   ]
  },
  {
   "cell_type": "code",
   "execution_count": 22,
   "metadata": {},
   "outputs": [
    {
     "data": {
      "text/plain": [
       "Время, проведенное на экране раунда 2 (сложность 1)                           169\n",
       "Время, проведенное на экране раунда 3 (сложность 1)                           169\n",
       "Время, проведенное на экране раунда 1 (сложность 2)                           190\n",
       "Время, проведенное на экране раунда 2 (сложность 2)                           190\n",
       "Количество кликов (вне зависимости от их правильности) для каждого правила    222\n",
       "Количество кликов внутри каждого правила, которые принесли какие-то баллы     222\n",
       "Время каждого клика (в секундах от начала игры)                               222\n",
       "dtype: int64"
      ]
     },
     "execution_count": 22,
     "metadata": {},
     "output_type": "execute_result"
    }
   ],
   "source": [
    "df_train.select_dtypes(include='object').isna().sum()"
   ]
  },
  {
   "cell_type": "code",
   "execution_count": 23,
   "metadata": {},
   "outputs": [],
   "source": [
    "# convert to numeric\n",
    "df_train = df_train.apply(pd.to_numeric, errors='coerce')\n",
    "df_test = df_test.apply(pd.to_numeric, errors='coerce')"
   ]
  },
  {
   "cell_type": "code",
   "execution_count": 24,
   "metadata": {},
   "outputs": [
    {
     "data": {
      "text/plain": [
       "(0, 0)"
      ]
     },
     "execution_count": 24,
     "metadata": {},
     "output_type": "execute_result"
    }
   ],
   "source": [
    "df_train_num = df_train.fillna(0)\n",
    "df_test_num = df_test.fillna(0)\n",
    "\n",
    "sum(df_train_num.isna().sum()), sum(df_test_num.isna().sum())"
   ]
  },
  {
   "cell_type": "markdown",
   "metadata": {},
   "source": [
    "### Агрегировать результаты диагностики по каждому юзеру"
   ]
  },
  {
   "cell_type": "code",
   "execution_count": 25,
   "metadata": {},
   "outputs": [],
   "source": [
    "from functools import reduce\n",
    "\n",
    "def aggregate(data):\n",
    "    sum_df = data.groupby(['Unti ID'], as_index=False).agg(np.sum)\n",
    "    sum_df.columns = [str(col) + '_sum' if col != 'Unti ID' else 'Unti ID' for col in sum_df.columns]\n",
    "    \n",
    "    mean_df = data.groupby(['Unti ID'], as_index=False).agg(np.mean)\n",
    "    mean_df.columns = [str(col) + '_mean' if col != 'Unti ID' else 'Unti ID' for col in mean_df.columns]\n",
    "    \n",
    "    median_df = data.groupby(['Unti ID'], as_index=False).agg(np.median)\n",
    "    median_df.columns = [str(col) + '_median' if col != 'Unti ID' else 'Unti ID' for col in median_df.columns]\n",
    "    \n",
    "    max_df = data.groupby(['Unti ID'], as_index=False).agg(np.max)\n",
    "    max_df.columns = [str(col) + '_max' if col != 'Unti ID' else 'Unti ID' for col in max_df.columns]\n",
    "    \n",
    "    min_df = data.groupby(['Unti ID'], as_index=False).agg(np.min)\n",
    "    min_df.columns = [str(col) + '_min' if col != 'Unti ID' else 'Unti ID' for col in min_df.columns]\n",
    "    \n",
    "    data_frames = [sum_df, mean_df, median_df, max_df, min_df]\n",
    "#     df_merged = pd.merge(sum_df, mean_df, on=['Unti ID'])\n",
    "    df_merged = reduce(lambda  left,right: pd.merge(left,right,on=['Unti ID'], how='right'), data_frames)\n",
    "    return df_merged"
   ]
  },
  {
   "cell_type": "code",
   "execution_count": 26,
   "metadata": {},
   "outputs": [
    {
     "data": {
      "text/plain": [
       "(206, 681)"
      ]
     },
     "execution_count": 26,
     "metadata": {},
     "output_type": "execute_result"
    }
   ],
   "source": [
    "df_train_agg = aggregate(df_train_num)\n",
    "df_train_agg.shape"
   ]
  },
  {
   "cell_type": "code",
   "execution_count": 27,
   "metadata": {},
   "outputs": [
    {
     "name": "stdout",
     "output_type": "stream",
     "text": [
      "Большие данные (выходные)_sum\n",
      "Большие данные (выходные)_mean\n",
      "Большие данные (выходные)_median\n",
      "Большие данные (выходные)_max\n",
      "Большие данные (выходные)_min\n"
     ]
    }
   ],
   "source": [
    "# sanity check - all good\n",
    "for col in df_train_agg.columns:\n",
    "    if 'Большие данные (выходные)' in col:\n",
    "        print(col)"
   ]
  },
  {
   "cell_type": "code",
   "execution_count": 28,
   "metadata": {},
   "outputs": [
    {
     "data": {
      "text/plain": [
       "(127, 681)"
      ]
     },
     "execution_count": 28,
     "metadata": {},
     "output_type": "execute_result"
    }
   ],
   "source": [
    "df_test_agg = aggregate(df_test_num)\n",
    "df_test_agg.shape"
   ]
  },
  {
   "cell_type": "code",
   "execution_count": 29,
   "metadata": {},
   "outputs": [],
   "source": [
    "df_train_agg.rename(columns={'Unti ID':'untiID'}, inplace=True)\n",
    "df_test_agg.rename(columns={'Unti ID':'untiID'}, inplace=True)"
   ]
  },
  {
   "cell_type": "code",
   "execution_count": 38,
   "metadata": {},
   "outputs": [],
   "source": [
    "# Сохраним сформированные трейн и тест\n",
    "df_train_agg.to_csv('diag_train_agg.csv',index=False)\n",
    "df_test_agg.to_csv('diag_test_agg.csv',index=False)"
   ]
  },
  {
   "cell_type": "markdown",
   "metadata": {},
   "source": [
    "### Фикс бага в данных рефлексий"
   ]
  },
  {
   "cell_type": "code",
   "execution_count": 30,
   "metadata": {},
   "outputs": [
    {
     "data": {
      "text/plain": [
       "array([44, 46, 43, 55, 45, 'Воробьев Роман Дмитриевич',\n",
       "       'Селина Алина Валерьевна', 'Новиков Алекcандр Андреевич',\n",
       "       'Анисимов Илья Андреевич', 32, 33, 58, 59, 60, 50, 51, 52, 53, 54,\n",
       "       62, 63, 64, 65, 66, 67, 85, 86, 87, 88, 89, 90, 91, 92],\n",
       "      dtype=object)"
      ]
     },
     "execution_count": 30,
     "metadata": {},
     "output_type": "execute_result"
    }
   ],
   "source": [
    "# Странные id вопросов\n",
    "texts['feedbackQuestionID'].unique()"
   ]
  },
  {
   "cell_type": "code",
   "execution_count": 32,
   "metadata": {},
   "outputs": [
    {
     "data": {
      "text/html": [
       "<div>\n",
       "<style scoped>\n",
       "    .dataframe tbody tr th:only-of-type {\n",
       "        vertical-align: middle;\n",
       "    }\n",
       "\n",
       "    .dataframe tbody tr th {\n",
       "        vertical-align: top;\n",
       "    }\n",
       "\n",
       "    .dataframe thead th {\n",
       "        text-align: right;\n",
       "    }\n",
       "</style>\n",
       "<table border=\"1\" class=\"dataframe\">\n",
       "  <thead>\n",
       "    <tr style=\"text-align: right;\">\n",
       "      <th></th>\n",
       "      <th>eventUUID</th>\n",
       "      <th>eventTitle</th>\n",
       "      <th>a_title</th>\n",
       "      <th>startDate</th>\n",
       "      <th>startTime</th>\n",
       "      <th>endDate</th>\n",
       "      <th>endTime</th>\n",
       "      <th>untiID</th>\n",
       "      <th>feedbackQuestionID</th>\n",
       "      <th>question</th>\n",
       "      <th>value</th>\n",
       "      <th>data</th>\n",
       "      <th>Unnamed: 12</th>\n",
       "      <th>Unnamed: 13</th>\n",
       "      <th>Unnamed: 14</th>\n",
       "    </tr>\n",
       "  </thead>\n",
       "  <tbody>\n",
       "    <tr>\n",
       "      <th>7250</th>\n",
       "      <td>a0e46d80-9ab0-43a1-bcf6-0b1e26bf4516</td>\n",
       "      <td>NaN</td>\n",
       "      <td>Визионерская среда: просмотр и обсуждение виде...</td>\n",
       "      <td>«Миф о власти искусственного интеллекта: персп...</td>\n",
       "      <td>2020-05-06</td>\n",
       "      <td>15:00:00</td>\n",
       "      <td>2020-05-06</td>\n",
       "      <td>710992</td>\n",
       "      <td>Селина Алина Валерьевна</td>\n",
       "      <td>44</td>\n",
       "      <td>Насколько вероятно, что Вы порекомендуете меро...</td>\n",
       "      <td>8</td>\n",
       "      <td>2020-05-06 16:17:35</td>\n",
       "      <td>NaN</td>\n",
       "      <td>NaN</td>\n",
       "    </tr>\n",
       "    <tr>\n",
       "      <th>7251</th>\n",
       "      <td>a0e46d80-9ab0-43a1-bcf6-0b1e26bf4516</td>\n",
       "      <td>NaN</td>\n",
       "      <td>Визионерская среда: просмотр и обсуждение виде...</td>\n",
       "      <td>«Миф о власти искусственного интеллекта: персп...</td>\n",
       "      <td>2020-05-06</td>\n",
       "      <td>15:00:00</td>\n",
       "      <td>2020-05-06</td>\n",
       "      <td>710992</td>\n",
       "      <td>Селина Алина Валерьевна</td>\n",
       "      <td>46</td>\n",
       "      <td>Перечислите основные этапы деятельности, в кот...</td>\n",
       "      <td>Сначала изучали математику нейронные сетей, ме...</td>\n",
       "      <td>2020-05-06 16:17:35</td>\n",
       "      <td>NaN</td>\n",
       "      <td>NaN</td>\n",
       "    </tr>\n",
       "    <tr>\n",
       "      <th>7252</th>\n",
       "      <td>a0e46d80-9ab0-43a1-bcf6-0b1e26bf4516</td>\n",
       "      <td>NaN</td>\n",
       "      <td>Визионерская среда: просмотр и обсуждение виде...</td>\n",
       "      <td>«Миф о власти искусственного интеллекта: персп...</td>\n",
       "      <td>2020-05-06</td>\n",
       "      <td>15:00:00</td>\n",
       "      <td>2020-05-06</td>\n",
       "      <td>710992</td>\n",
       "      <td>Селина Алина Валерьевна</td>\n",
       "      <td>43</td>\n",
       "      <td>Чему новому, как вам кажется, вы научились?</td>\n",
       "      <td>Узнала очень много нового о нейронных сетях, т...</td>\n",
       "      <td>2020-05-06 16:17:35</td>\n",
       "      <td>NaN</td>\n",
       "      <td>NaN</td>\n",
       "    </tr>\n",
       "  </tbody>\n",
       "</table>\n",
       "</div>"
      ],
      "text/plain": [
       "                                 eventUUID eventTitle  \\\n",
       "7250  a0e46d80-9ab0-43a1-bcf6-0b1e26bf4516        NaN   \n",
       "7251  a0e46d80-9ab0-43a1-bcf6-0b1e26bf4516        NaN   \n",
       "7252  a0e46d80-9ab0-43a1-bcf6-0b1e26bf4516        NaN   \n",
       "\n",
       "                                                a_title  \\\n",
       "7250  Визионерская среда: просмотр и обсуждение виде...   \n",
       "7251  Визионерская среда: просмотр и обсуждение виде...   \n",
       "7252  Визионерская среда: просмотр и обсуждение виде...   \n",
       "\n",
       "                                              startDate   startTime   endDate  \\\n",
       "7250  «Миф о власти искусственного интеллекта: персп...  2020-05-06  15:00:00   \n",
       "7251  «Миф о власти искусственного интеллекта: персп...  2020-05-06  15:00:00   \n",
       "7252  «Миф о власти искусственного интеллекта: персп...  2020-05-06  15:00:00   \n",
       "\n",
       "         endTime  untiID       feedbackQuestionID question  \\\n",
       "7250  2020-05-06  710992  Селина Алина Валерьевна       44   \n",
       "7251  2020-05-06  710992  Селина Алина Валерьевна       46   \n",
       "7252  2020-05-06  710992  Селина Алина Валерьевна       43   \n",
       "\n",
       "                                                  value  \\\n",
       "7250  Насколько вероятно, что Вы порекомендуете меро...   \n",
       "7251  Перечислите основные этапы деятельности, в кот...   \n",
       "7252        Чему новому, как вам кажется, вы научились?   \n",
       "\n",
       "                                                   data          Unnamed: 12  \\\n",
       "7250                                                  8  2020-05-06 16:17:35   \n",
       "7251  Сначала изучали математику нейронные сетей, ме...  2020-05-06 16:17:35   \n",
       "7252  Узнала очень много нового о нейронных сетях, т...  2020-05-06 16:17:35   \n",
       "\n",
       "     Unnamed: 13 Unnamed: 14  \n",
       "7250         NaN         NaN  \n",
       "7251         NaN         NaN  \n",
       "7252         NaN         NaN  "
      ]
     },
     "execution_count": 32,
     "metadata": {},
     "output_type": "execute_result"
    }
   ],
   "source": [
    "texts[texts['feedbackQuestionID']=='Селина Алина Валерьевна'].head(3)"
   ]
  },
  {
   "cell_type": "markdown",
   "metadata": {},
   "source": [
    "#### Похоже, что для некоторых сэмплов значения колонок сместились. Вернем id вопросов, вопросы и ответы в соответствующие колонки"
   ]
  },
  {
   "cell_type": "code",
   "execution_count": 33,
   "metadata": {},
   "outputs": [],
   "source": [
    "ids_to_fix = []\n",
    "for val in texts['feedbackQuestionID'].unique():\n",
    "    if not isinstance(val, int):\n",
    "        ids_to_fix.append(texts[texts['feedbackQuestionID']==val]['untiID'].unique()[0])"
   ]
  },
  {
   "cell_type": "code",
   "execution_count": 34,
   "metadata": {},
   "outputs": [],
   "source": [
    "def fix_strange_ids(ids):\n",
    "    for i in ids:\n",
    "        texts['feedbackQuestionID'] = np.where(texts.untiID == i, texts['question'], texts['feedbackQuestionID'])\n",
    "        texts['question'] = np.where(texts.untiID == i, texts['value'], texts['question'])\n",
    "        texts['value'] = np.where(texts.untiID == i, texts['data'], texts['value'])\n",
    "    return texts"
   ]
  },
  {
   "cell_type": "code",
   "execution_count": 35,
   "metadata": {},
   "outputs": [
    {
     "data": {
      "text/plain": [
       "(26546, 15)"
      ]
     },
     "execution_count": 35,
     "metadata": {},
     "output_type": "execute_result"
    }
   ],
   "source": [
    "texts.shape"
   ]
  },
  {
   "cell_type": "code",
   "execution_count": 36,
   "metadata": {},
   "outputs": [],
   "source": [
    "text_df = fix_strange_ids(ids_to_fix)"
   ]
  },
  {
   "cell_type": "code",
   "execution_count": 37,
   "metadata": {},
   "outputs": [
    {
     "data": {
      "text/plain": [
       "array([44, 46, 43, 55, 45, 32, 33, 58, 59, 60, 50, 51, 52, 53, 54, 62, 63,\n",
       "       64, 65, 66, 67, 85, 86, 87, 88, 89, 90, 91, 92], dtype=object)"
      ]
     },
     "execution_count": 37,
     "metadata": {},
     "output_type": "execute_result"
    }
   ],
   "source": [
    "# sanity check - all good\n",
    "text_df['feedbackQuestionID'].unique()"
   ]
  },
  {
   "cell_type": "code",
   "execution_count": 41,
   "metadata": {},
   "outputs": [
    {
     "data": {
      "text/plain": [
       "((26546, 15), (9128, 15))"
      ]
     },
     "execution_count": 41,
     "metadata": {},
     "output_type": "execute_result"
    }
   ],
   "source": [
    "text_df.shape, text_df.drop_duplicates().shape"
   ]
  },
  {
   "cell_type": "code",
   "execution_count": 42,
   "metadata": {},
   "outputs": [
    {
     "data": {
      "text/plain": [
       "(9128, 15)"
      ]
     },
     "execution_count": 42,
     "metadata": {},
     "output_type": "execute_result"
    }
   ],
   "source": [
    "# Убираем дубликаты\n",
    "text_df.drop_duplicates(inplace=True)\n",
    "text_df.shape"
   ]
  },
  {
   "cell_type": "code",
   "execution_count": 43,
   "metadata": {},
   "outputs": [],
   "source": [
    "# Сохраним исправленные данные рефлексий\n",
    "text_df.to_csv('fixed_reflex_texts.csv',index=False)"
   ]
  }
 ],
 "metadata": {
  "kernelspec": {
   "display_name": "Python 3",
   "language": "python",
   "name": "python3"
  },
  "language_info": {
   "codemirror_mode": {
    "name": "ipython",
    "version": 3
   },
   "file_extension": ".py",
   "mimetype": "text/x-python",
   "name": "python",
   "nbconvert_exporter": "python",
   "pygments_lexer": "ipython3",
   "version": "3.7.9"
  }
 },
 "nbformat": 4,
 "nbformat_minor": 4
}
